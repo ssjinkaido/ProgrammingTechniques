{
 "cells": [
  {
   "cell_type": "markdown",
   "metadata": {},
   "source": [
    "# Labwork 3\n",
    "This labwork concerns the lecture 3, and so is about testing in Python.\n",
    "\n",
    "Before to start, run the following cell to build the necessary directories..."
   ]
  },
  {
   "cell_type": "code",
   "execution_count": 51,
   "metadata": {},
   "outputs": [],
   "source": [
    "%%python\n",
    "import os\n",
    "\n",
    "def build_if_not_exist_dir(dir):\n",
    "    if not os.path.exists(dir):\n",
    "        os.mkdir(dir)\n",
    "\n",
    "all_dirs = [ 'exercise1', 'exercise2', 'exercise3' ]\n",
    "\n",
    "for base_dir in all_dirs:\n",
    "    \n",
    "    build_if_not_exist_dir(base_dir)\n",
    "    \n",
    "    build_if_not_exist_dir(os.path.join(base_dir, 'api'))\n",
    "    \n",
    "    build_if_not_exist_dir(os.path.join(base_dir, 'tests'))"
   ]
  },
  {
   "cell_type": "markdown",
   "metadata": {},
   "source": [
    "Moreover you will need to install the `colorama` module using `pip`...\n",
    "```bash\n",
    "pip install colorama\n",
    "```\n",
    "On Windows this may requires upgraded privilege, so we let you do it by yourself... 😵"
   ]
  },
  {
   "cell_type": "markdown",
   "metadata": {},
   "source": [
    "## Exercise 1\n",
    "This first exercise's objective is to add unit testing to the following file, including all functions. "
   ]
  },
  {
   "cell_type": "code",
   "execution_count": 52,
   "metadata": {},
   "outputs": [
    {
     "name": "stdout",
     "output_type": "stream",
     "text": [
      "Overwriting exercise1/api/__init__.py\n"
     ]
    }
   ],
   "source": [
    "%%writefile exercise1/api/__init__.py\n",
    "\n",
    "def factorial(n:int) -> int:\n",
    "    \"\"\"\n",
    "    Returns the factorial of its parameter.\n",
    "\n",
    "    The factorial of n (written as n!) is equal to n*factorial(n-1) \n",
    "    for all n>1. \n",
    "    We extend this definition with factorial(0) being equal to 1.\n",
    "    Factorial is not defined for negative number!\n",
    "    \"\"\"\n",
    "    if n < 0:\n",
    "        raise ValueError('parameter must be positive integer')\n",
    "\n",
    "    result = 1\n",
    "\n",
    "    for i in range(n):\n",
    "        result *= i+1\n",
    "\n",
    "    return result\n",
    "\n",
    "\n",
    "def fibonacci(n):\n",
    "    \"\"\"\n",
    "    Return the nth Fibonacci number.\n",
    "\n",
    "    Fibonacci numbers are defined by recurrence as:\n",
    "    - Fibonacci(0) = 0\n",
    "    - Fibonacci(1) = 0\n",
    "    - Fibonacci(n) = Fibonacci(n-1) + Fibonacci(n-2) for n>1\n",
    "    Notice that it is not defined for negative number!\n",
    "    \"\"\"\n",
    "    if n < 0:\n",
    "        raise ValueError('parameter must be positive integer')\n",
    "    \n",
    "    # we use the matrix version (see wikipedia)\n",
    "    fib_i1, fib_i2 = 0, 1\n",
    "    for i in range(0,n):\n",
    "        fib_i1, fib_i2 = fib_i2 , fib_i1 + fib_i2\n",
    "\n",
    "    return fib_i1\n",
    "\n",
    " \n",
    "if __name__ == '__main__':\n",
    "    def try_factorial():\n",
    "        try:\n",
    "            factorial(-1)\n",
    "        except ValueError:\n",
    "            print('catch exception as expected...')\n",
    "        for i in range(11):\n",
    "            print(f'factorial({i}) = {factorial(i)}')\n",
    "    def try_fibonacci():\n",
    "        try:\n",
    "            fibonacci(-1)\n",
    "        except ValueError:\n",
    "            print('catch exception as expected...')\n",
    "        for i in range(20):\n",
    "            print(f'fibonacci({i}) = {fibonacci(i)}')\n",
    "    try_factorial()\n",
    "    try_fibonacci() "
   ]
  },
  {
   "cell_type": "code",
   "execution_count": 53,
   "metadata": {},
   "outputs": [
    {
     "name": "stdout",
     "output_type": "stream",
     "text": [
      "catch exception as expected...\n",
      "factorial(0) = 1\n",
      "factorial(1) = 1\n",
      "factorial(2) = 2\n",
      "factorial(3) = 6\n",
      "factorial(4) = 24\n",
      "factorial(5) = 120\n",
      "factorial(6) = 720\n",
      "factorial(7) = 5040\n",
      "factorial(8) = 40320\n",
      "factorial(9) = 362880\n",
      "factorial(10) = 3628800\n",
      "catch exception as expected...\n",
      "fibonacci(0) = 0\n",
      "fibonacci(1) = 1\n",
      "fibonacci(2) = 1\n",
      "fibonacci(3) = 2\n",
      "fibonacci(4) = 3\n",
      "fibonacci(5) = 5\n",
      "fibonacci(6) = 8\n",
      "fibonacci(7) = 13\n",
      "fibonacci(8) = 21\n",
      "fibonacci(9) = 34\n",
      "fibonacci(10) = 55\n",
      "fibonacci(11) = 89\n",
      "fibonacci(12) = 144\n",
      "fibonacci(13) = 233\n",
      "fibonacci(14) = 377\n",
      "fibonacci(15) = 610\n",
      "fibonacci(16) = 987\n",
      "fibonacci(17) = 1597\n",
      "fibonacci(18) = 2584\n",
      "fibonacci(19) = 4181\n"
     ]
    }
   ],
   "source": [
    "!cd exercise1/api && python __init__.py"
   ]
  },
  {
   "cell_type": "markdown",
   "metadata": {},
   "source": [
    "Use the **two following cells** to implement the required test (considering all possible situations...)."
   ]
  },
  {
   "cell_type": "code",
   "execution_count": 54,
   "metadata": {},
   "outputs": [
    {
     "name": "stdout",
     "output_type": "stream",
     "text": [
      "Overwriting exercise1/tests/test_factorial.py\n"
     ]
    }
   ],
   "source": [
    "%%writefile exercise1/tests/test_factorial.py\n",
    "import unittest\n",
    "from api import factorial\n",
    "\n",
    "class TestFactorial(unittest.TestCase):\n",
    "    def test_factorial_one(self):\n",
    "        i = 10\n",
    "        result = factorial(i)\n",
    "        self.assertEqual(result, 3628800)\n",
    "\n",
    "    def test_factorial_two(self):\n",
    "        i = 1\n",
    "        result = factorial(i)\n",
    "        self.assertEqual(result, 1)\n",
    "\n",
    "    def test_factorial_third(self):\n",
    "        i = 2\n",
    "        result = factorial(i)\n",
    "        self.assertEqual(result, 2)\n",
    "    \n",
    "    def test_factorial_float(self):\n",
    "        i = 8.5\n",
    "        with self.assertRaises(TypeError):\n",
    "            result = factorial(i)\n",
    "    \n",
    "    def test_factorial_string(self):\n",
    "        i = \"aaa\"\n",
    "        with self.assertRaises(TypeError):\n",
    "            result = factorial(i)\n",
    "    \n",
    "    def test_factorial_negative(self):\n",
    "        i = -1\n",
    "        with self.assertRaises(ValueError):\n",
    "            result = factorial(i)\n",
    "\n",
    "# do it here for factorial"
   ]
  },
  {
   "cell_type": "code",
   "execution_count": 55,
   "metadata": {},
   "outputs": [
    {
     "name": "stdout",
     "output_type": "stream",
     "text": [
      "Overwriting exercise1/tests/test_fibonacci.py\n"
     ]
    }
   ],
   "source": [
    "%%writefile exercise1/tests/test_fibonacci.py\n",
    "import unittest\n",
    "from api import fibonacci\n",
    "\n",
    "class TestFibonacci(unittest.TestCase):\n",
    "    def test_fibonacci(self):\n",
    "        i = 8\n",
    "        result = fibonacci(i)\n",
    "        self.assertEqual(result, 21)\n",
    "    \n",
    "    def test_fibonacci_float(self):\n",
    "        i = 8.5\n",
    "        with self.assertRaises(TypeError):\n",
    "            result = fibonacci(i)\n",
    "    \n",
    "    def test_fibonacci_string(self):\n",
    "        i = \"aaa\"\n",
    "        with self.assertRaises(TypeError):\n",
    "            result = fibonacci(i)\n",
    "    \n",
    "    def test_fibonacci_negative(self):\n",
    "        i = -1\n",
    "        with self.assertRaises(ValueError):\n",
    "            result = fibonacci(i)\n",
    "# do it here for fibonacci"
   ]
  },
  {
   "cell_type": "markdown",
   "metadata": {},
   "source": [
    "Then **run the following cell** to launch the test!"
   ]
  },
  {
   "cell_type": "code",
   "execution_count": 56,
   "metadata": {},
   "outputs": [
    {
     "name": "stdout",
     "output_type": "stream",
     "text": [
      "..........\n",
      "----------------------------------------------------------------------\n",
      "Ran 10 tests in 0.001s\n",
      "\n",
      "OK\n"
     ]
    }
   ],
   "source": [
    "!cd exercise1 && python -m unittest discover -s tests"
   ]
  },
  {
   "cell_type": "markdown",
   "metadata": {},
   "source": [
    "## Exercise 2\n",
    "This exercise explores the testing of a rather simple class (before to try a more interesting situation), encountered in the previous labwork &#x1F601;\n",
    "The API is the done in the following cells (run them to write that onto your HD):"
   ]
  },
  {
   "cell_type": "code",
   "execution_count": 57,
   "metadata": {},
   "outputs": [
    {
     "name": "stdout",
     "output_type": "stream",
     "text": [
      "Overwriting exercise2/api/__init__.py\n"
     ]
    }
   ],
   "source": [
    "%%writefile exercise2/api/__init__.py\n",
    "from .LinkedList import Node, LinkedList"
   ]
  },
  {
   "cell_type": "code",
   "execution_count": 58,
   "metadata": {},
   "outputs": [
    {
     "name": "stdout",
     "output_type": "stream",
     "text": [
      "Overwriting exercise2/api/LinkedList.py\n"
     ]
    }
   ],
   "source": [
    "%%writefile exercise2/api/LinkedList.py\n",
    "class Node:\n",
    "    def __init__(self, data, next_node=None):\n",
    "        self._data = data\n",
    "        self._next = next_node\n",
    "\n",
    "    def __repr__(self):\n",
    "        return '(' + repr(self._data) + ')'\n",
    "    \n",
    "    @property\n",
    "    def data(self):\n",
    "        return self._data\n",
    "    \n",
    "    @property\n",
    "    def next(self):\n",
    "        return self._next\n",
    "\n",
    "    @next.setter\n",
    "    def next(self, node):\n",
    "        self._next = node\n",
    "\n",
    "class LinkedList:\n",
    "    def __init__(self, values=None):\n",
    "        self.head = None\n",
    "        if values is not None:\n",
    "            node = None\n",
    "            for elem in values:\n",
    "                if node is None:\n",
    "                    self.head = Node(elem)\n",
    "                    node = self.head\n",
    "                else:\n",
    "                    node.next = Node(elem)\n",
    "                    node = node.next\n",
    "\n",
    "    def __repr__(self):\n",
    "        node = self.head\n",
    "        nodes = []\n",
    "        while node is not None:\n",
    "            nodes.append(repr(node))\n",
    "            node = node.next\n",
    "        nodes.append(\"None\")\n",
    "        return \" -> \".join(nodes)\n",
    "\n",
    "    def __iter__(self):\n",
    "        node = self.head\n",
    "        while node is not None:\n",
    "            yield node\n",
    "            node = node.next\n",
    "    \n",
    "    def __len__(self):\n",
    "        result = 0\n",
    "        node = self.head\n",
    "        while node is not None:\n",
    "            result = result + 1\n",
    "            node = node.next\n",
    "        return result\n",
    "\n",
    "    def is_empty(self):\n",
    "        return self.head is None\n",
    "\n",
    "    def __node_to_node(self, node, next=None):\n",
    "        if isinstance(node, Node):\n",
    "            node.next = next\n",
    "            return node\n",
    "        return Node(node, next)\n",
    "    \n",
    "    def add_first(self, node):\n",
    "        self.head = self.__node_to_node(node, self.head)\n",
    "\n",
    "    def add_last(self, node):\n",
    "        if self.is_empty():\n",
    "            self.head = self.__node_to_node(node)\n",
    "            return\n",
    "        current_node = self.head\n",
    "        while current_node.next is not None:\n",
    "            current_node = current_node.next\n",
    "        current_node.next = self.__node_to_node(node)\n",
    "    \n",
    "    def add_before(self, target_node_data, new_node):\n",
    "        if self.is_empty():\n",
    "            raise ValueError(\"List is empty\")\n",
    "\n",
    "        if self.head.data == target_node_data:\n",
    "            return self.add_first(new_node)\n",
    "\n",
    "        prev_node = self.head\n",
    "        for node in self:\n",
    "            if node.data == target_node_data:\n",
    "                prev_node.next = self.__node_to_node(new_node, node)\n",
    "                return\n",
    "            prev_node = node\n",
    "\n",
    "        raise ValueError(f\"Node with data {target_node_data} not found\")\n",
    "\n",
    "    def add_after(self, target_node_data, new_node):\n",
    "        if self.is_empty():\n",
    "            raise Exception(\"List is empty\")\n",
    "\n",
    "        for node in self:\n",
    "            if node.data == target_node_data:\n",
    "                node.next = self.__node_to_node(new_node, node.next)\n",
    "                return\n",
    "\n",
    "        raise ValueError(f\"Node with data {target_node_data} not found\")\n",
    "\n",
    "    def remove_node(self, target_node_data):\n",
    "        if self.is_empty():\n",
    "            raise ValueError(\"List is empty\")\n",
    "\n",
    "        if self.head.data == target_node_data:\n",
    "            self.head = self.head.next\n",
    "            return\n",
    "\n",
    "        previous_node = self.head\n",
    "        for node in self:\n",
    "            if node.data == target_node_data:\n",
    "                previous_node.next = node.next\n",
    "                return\n",
    "            previous_node = node\n",
    "\n",
    "        raise ValueError(f\"Node with data {target_node_data} not found\")\n",
    "\n"
   ]
  },
  {
   "cell_type": "markdown",
   "metadata": {},
   "source": [
    "Add your tests in the following file:"
   ]
  },
  {
   "cell_type": "code",
   "execution_count": 59,
   "metadata": {},
   "outputs": [
    {
     "name": "stdout",
     "output_type": "stream",
     "text": [
      "Overwriting exercise2/tests/test_Node.py\n"
     ]
    }
   ],
   "source": [
    "%%writefile exercise2/tests/test_Node.py\n",
    "# test the Node class\n",
    "import unittest\n",
    "import sys\n",
    "\n",
    "sys.path.append(\"../\")\n",
    "from unittest.mock import patch\n",
    "\n",
    "\n",
    "from api import Node\n",
    "\n",
    "\n",
    "class TestNode(unittest.TestCase):\n",
    "    def setUp(self):\n",
    "        self.node = Node(5, None)\n",
    "\n",
    "    def test_init(self):\n",
    "        self.assertEqual(self.node.data, 5)\n",
    "        self.assertEqual(self.node.next, None)\n",
    "\n",
    "    def test_init_next_is_not_none(self):\n",
    "        node = Node(42)\n",
    "        self.assertIsNone(node.next)  \n",
    "\n",
    "    def test_init_next_is_not_none(self):\n",
    "        node = Node(42, Node(0))\n",
    "        self.assertIsNotNone(node.next)  \n",
    "\n",
    "    def test_repr(self):\n",
    "        node = Node(42)\n",
    "        self.assertEqual(repr(node), '(42)')\n",
    "\n",
    "    def test_immutable(self):\n",
    "        value = 42\n",
    "        node = Node(value)\n",
    "        with self.assertRaises(AttributeError):\n",
    "            node.data = 0\n",
    "        self.assertEqual(node.data, value)"
   ]
  },
  {
   "cell_type": "code",
   "execution_count": 60,
   "metadata": {},
   "outputs": [
    {
     "name": "stdout",
     "output_type": "stream",
     "text": [
      "Overwriting exercise2/tests/tests_LinkedList.py\n"
     ]
    }
   ],
   "source": [
    "%%writefile exercise2/tests/tests_LinkedList.py\n",
    "# test the LinkedList class\n",
    "import unittest\n",
    "from unittest.mock import patch\n",
    "from api import LinkedList, Node\n",
    "\n",
    "\n",
    "class TestLinkedList(unittest.TestCase):\n",
    "    def setUp(self):\n",
    "        self.linked_list = LinkedList(values=[5, 6, 7, 8, 9])\n",
    "\n",
    "    def test_init(self):\n",
    "        self.assertEqual(self.linked_list.head.data, 5)\n",
    "        self.assertIsNotNone(self.linked_list.head)\n",
    "        \n",
    "    def test_length(self):\n",
    "        self.assertEqual(len(self.linked_list),5)\n",
    "    \n",
    "    def test_empty(self):\n",
    "        self.assertEqual(self.linked_list.is_empty(), False)\n",
    "\n",
    "    def test_add_first(self):\n",
    "        self.node = Node(10)\n",
    "        self.linked_list.add_first(self.node)\n",
    "        self.assertEqual(len(self.linked_list), 6)\n",
    "        self.assertEqual(self.linked_list.head.next.data, 5)\n",
    "\n",
    "    def test_add_last(self):\n",
    "        self.node = Node(15)\n",
    "        self.linked_list.add_last(self.node)\n",
    "        self.assertEqual(len(self.linked_list), 6)\n",
    "\n",
    "    def test_add_before(self):\n",
    "        self.node = Node(12)\n",
    "        self.linked_list.add_before(5, self.node)\n",
    "        self.assertEqual(len(self.linked_list),6)\n",
    "        self.assertEqual(self.linked_list.head.data, 12)\n",
    "        self.assertEqual(self.linked_list.head.next.data, 5)\n",
    "\n",
    "    def test_add_after(self):\n",
    "        self.node = Node(13)\n",
    "        self.linked_list.add_after(5, self.node)\n",
    "        self.assertEqual(len(self.linked_list),6)\n",
    "        self.assertEqual(self.linked_list.head.next.data, 13)\n",
    "        self.assertEqual(self.linked_list.head.next.next.data, 6)\n",
    "        \n",
    "\n",
    "    def test_remove_node(self):\n",
    "        self.linked_list.remove_node(5)\n",
    "        self.assertEqual(len(self.linked_list),4)\n",
    "        self.assertEqual(self.linked_list.head.data, 6)\n",
    "\n",
    "    def test_iter(self):\n",
    "        it1=iter(self.linked_list)\n",
    "        self.assertEqual(next(it1).data,5)\n",
    "        self.assertEqual(next(it1).data,6)\n",
    "        self.assertEqual(next(it1).data,7)\n",
    "        self.assertEqual(next(it1).data,8)\n",
    "        self.assertEqual(next(it1).data,9)\n",
    "        with self.assertRaises(StopIteration):\n",
    "            next(it1).data"
   ]
  },
  {
   "cell_type": "markdown",
   "metadata": {},
   "source": [
    "Now, use the following cell to launch the test:"
   ]
  },
  {
   "cell_type": "code",
   "execution_count": 61,
   "metadata": {},
   "outputs": [
    {
     "name": "stdout",
     "output_type": "stream",
     "text": [
      ".............\n",
      "----------------------------------------------------------------------\n",
      "Ran 13 tests in 0.001s\n",
      "\n",
      "OK\n"
     ]
    }
   ],
   "source": [
    "!cd exercise2 && python -m unittest discover -s tests"
   ]
  },
  {
   "cell_type": "markdown",
   "metadata": {},
   "source": [
    "## Exercise 3\n",
    "Now let us play with a more complete example... This exercise proposes a simple class hierarchy, plus a method that uses a list of objects of different classes. \n",
    "\n",
    "In order to implement *unit testing*, you must test each class/method independently of the others...\n",
    "\n",
    "How ? \n",
    "\n",
    "Using mocking!\n",
    "\n",
    "Of course, later you may implement *integration testing* to check the full mechanism works as expected..."
   ]
  },
  {
   "cell_type": "code",
   "execution_count": 62,
   "metadata": {},
   "outputs": [
    {
     "name": "stdout",
     "output_type": "stream",
     "text": [
      "Overwriting exercise3/api/__init__.py\n"
     ]
    }
   ],
   "source": [
    "%%writefile exercise3/api/__init__.py\n",
    "from .Employee import Employee\n",
    "from .SalaryEmployee import SalaryEmployee\n",
    "from .CommissionEmployee import CommissionEmployee\n",
    "from .HourlyEmployee import HourlyEmployee\n",
    "from .PayrollSystem import PayrollSystem "
   ]
  },
  {
   "cell_type": "code",
   "execution_count": 63,
   "metadata": {},
   "outputs": [
    {
     "name": "stdout",
     "output_type": "stream",
     "text": [
      "Overwriting exercise3/api/Employee.py\n"
     ]
    }
   ],
   "source": [
    "%%writefile exercise3/api/Employee.py\n",
    "from abc import ABC, abstractmethod\n",
    "\n",
    "\n",
    "class Employee:\n",
    "    \"\"\"Define an employee, from its identifier and name\"\"\"\n",
    "\n",
    "    def __init__(self, identifier: int, name: str) -> None:\n",
    "        self.__identifier = identifier\n",
    "        self.__name = name\n",
    "\n",
    "    @property\n",
    "    def identifier(self) -> int:\n",
    "        return self.__identifier\n",
    "\n",
    "    @property\n",
    "    def name(self) -> str:\n",
    "        return self.__name\n",
    "\n",
    "    @abstractmethod\n",
    "    def calculate_pay_month(self) -> float:\n",
    "        return 0.0"
   ]
  },
  {
   "cell_type": "code",
   "execution_count": 64,
   "metadata": {},
   "outputs": [
    {
     "name": "stdout",
     "output_type": "stream",
     "text": [
      "Overwriting exercise3/api/SalaryEmployee.py\n"
     ]
    }
   ],
   "source": [
    "%%writefile exercise3/api/SalaryEmployee.py\n",
    "from api import Employee\n",
    "\n",
    "\n",
    "class SalaryEmployee(Employee):\n",
    "    \"\"\"\n",
    "    Salary employee has a fix salary, payed each month with the same amount.\n",
    "    \"\"\"\n",
    "\n",
    "    def __init__(self, identifier: int, name: str, annual_salary: float):\n",
    "        \"\"\"\"\n",
    "        Initializes a Salary Employee\n",
    "\n",
    "        Notice that the annual salary is given for one year...\n",
    "        \"\"\"\n",
    "\n",
    "        super().__init__(identifier, name)\n",
    "        self.__annual_salary = annual_salary\n",
    "\n",
    "    def calculate_pay_month(self) -> float:\n",
    "        return self.__annual_salary / 12.0"
   ]
  },
  {
   "cell_type": "code",
   "execution_count": 65,
   "metadata": {},
   "outputs": [
    {
     "name": "stdout",
     "output_type": "stream",
     "text": [
      "Overwriting exercise3/api/CommissionEmployee.py\n"
     ]
    }
   ],
   "source": [
    "%%writefile exercise3/api/CommissionEmployee.py\n",
    "from api import Employee, SalaryEmployee\n",
    "\n",
    "\n",
    "class CommissionEmployee(SalaryEmployee):\n",
    "    \"\"\"Commission Employee payed using a fix annual salary, plus commissions\"\"\"\n",
    "\n",
    "    def __init__(self, identifier: int, name: str, monthly_salary: float, commission: float):\n",
    "        super().__init__(identifier, name, monthly_salary)\n",
    "        self.__commission = commission\n",
    "\n",
    "    def calculate_pay_month(self):\n",
    "        fixed = super().calculate_pay_month()\n",
    "        return fixed + self.__commission"
   ]
  },
  {
   "cell_type": "code",
   "execution_count": 66,
   "metadata": {},
   "outputs": [
    {
     "name": "stdout",
     "output_type": "stream",
     "text": [
      "Overwriting exercise3/api/HourlyEmployee.py\n"
     ]
    }
   ],
   "source": [
    "%%writefile exercise3/api/HourlyEmployee.py\n",
    "from api import Employee\n",
    "\n",
    "\n",
    "class HourlyEmployee(Employee):\n",
    "    \"\"\"\n",
    "    Employee who is payed for each working hour\n",
    "    \"\"\"\n",
    "\n",
    "    def __init__(self, identifier: int, name: str, hour_rate: float):\n",
    "        super().__init__(identifier, name)\n",
    "        self.__hours_worked = 0\n",
    "        self.__hour_rate = hour_rate\n",
    "\n",
    "    @property\n",
    "    def hours_worked(self) -> int:\n",
    "        return self.__hours_worked\n",
    "\n",
    "    @hours_worked.setter\n",
    "    def hours_worked(self, hours_in_month: int) -> int:\n",
    "        self.__hours_worked = hours_in_month\n",
    "        return self.__hours_worked\n",
    "\n",
    "    def calculate_pay_month(self) -> float:\n",
    "        return self.hours_worked * self.__hour_rate"
   ]
  },
  {
   "cell_type": "code",
   "execution_count": 67,
   "metadata": {},
   "outputs": [
    {
     "name": "stdout",
     "output_type": "stream",
     "text": [
      "Overwriting exercise3/api/PayrollSystem.py\n"
     ]
    }
   ],
   "source": [
    "%%writefile exercise3/api/PayrollSystem.py\n",
    "from __future__ import annotations\n",
    "from api import Employee\n",
    "from typing import Dict\n",
    "\n",
    "class PayrollSystem:\n",
    "    \"\"\"\n",
    "    Human resource payroll system...\n",
    "    \"\"\"\n",
    "\n",
    "    def __init__(self):\n",
    "        self.__employees = {}\n",
    "\n",
    "    @property\n",
    "    def employees(self) -> Dict:\n",
    "        return self.__employees\n",
    "\n",
    "    def is_employee(self, employee: Employee) -> bool:\n",
    "        \"\"\"Check if a given employee is into the database\"\"\"\n",
    "\n",
    "        return employee.identifier in self.__employees\n",
    "\n",
    "    def add_employee(self, employee: Employee) -> None:\n",
    "        \"\"\"Add a new employee to the database\"\"\"\n",
    "\n",
    "        if self.is_employee(employee):\n",
    "            raise ValueError(f'employee {employee.identifier} already exists')\n",
    "\n",
    "        self.__employees[employee.identifier] = employee\n",
    "\n",
    "    def remove_employee(self, employee: Employee) -> None:\n",
    "        \"\"\"Remove a given employee from the database\"\"\"\n",
    "\n",
    "        if not self.is_employee(employee):\n",
    "            raise ValueError(f'employee {employee.identifier} is not in the database')\n",
    "\n",
    "        del self.__employees[employee.identifier]\n",
    "\n",
    "    def get_employee(self, identifier: int) -> Employee:\n",
    "        return self.__employees[identifier]\n",
    "\n",
    "    def calculate_pay_month(self) -> dict[int, float]:\n",
    "        \"\"\"Calculates and return the pay into a dictionary\"\"\"\n",
    "        print(\"Here\")\n",
    "        result = {}\n",
    "\n",
    "        for employee in self.__employees.values():\n",
    "            result[employee.identifier] = employee.calculate_pay_month()\n",
    "\n",
    "        return result\n",
    "\n",
    "    def calculate_payroll(self) -> float:\n",
    "        \"\"\"Calculates and return the total payroll for all employees\"\"\"\n",
    "\n",
    "        result = 0\n",
    "\n",
    "        for employee in self.__employees.values():\n",
    "            result = result + employee.calculate_pay_month()\n",
    "\n",
    "        return result\n",
    "\n",
    "    def generate_identifier(self) -> int:\n",
    "        \"\"\"Generate an unused employee identifier\"\"\"\n",
    "        if len(self.__employees) == 0:\n",
    "            return 1\n",
    "        max_key = max(self.__employees)\n",
    "        return 1 + max_key"
   ]
  },
  {
   "cell_type": "markdown",
   "metadata": {},
   "source": [
    "We can try this api using the following piece of code:"
   ]
  },
  {
   "cell_type": "code",
   "execution_count": 68,
   "metadata": {},
   "outputs": [
    {
     "name": "stdout",
     "output_type": "stream",
     "text": [
      "Overwriting exercise3/main.py\n"
     ]
    }
   ],
   "source": [
    "%%writefile exercise3/main.py\n",
    "\n",
    "from api import (PayrollSystem, SalaryEmployee, CommissionEmployee, HourlyEmployee)\n",
    "\n",
    "\n",
    "\n",
    "if __name__ == \"__main__\":\n",
    "\n",
    "    payroll_system = PayrollSystem()\n",
    "\n",
    "    payroll_system.add_employee(SalaryEmployee(payroll_system.generate_identifier(), 'John Smith', 85000))\n",
    "    payroll_system.add_employee(CommissionEmployee(payroll_system.generate_identifier(), 'Kevin Bacon', 50000, 2500))\n",
    "\n",
    "    jane_doe = HourlyEmployee(payroll_system.generate_identifier(), 'Jane Doe', 15)\n",
    "    payroll_system.add_employee(jane_doe)\n",
    "\n",
    "    jane_doe.hours_worked = 42\n",
    "\n",
    "    payroll = payroll_system.calculate_pay_month()\n",
    "    print('Payroll:')\n",
    "    for p in payroll.items():\n",
    "        print(f'- for {p[0]}: {p[1]}')\n",
    "    print(f'total is {payroll_system.calculate_payroll()}')"
   ]
  },
  {
   "cell_type": "code",
   "execution_count": 69,
   "metadata": {},
   "outputs": [
    {
     "name": "stdout",
     "output_type": "stream",
     "text": [
      "Here\n",
      "Payroll:\n",
      "- for 1: 7083.333333333333\n",
      "- for 2: 6666.666666666667\n",
      "- for 3: 630\n",
      "total is 14380.0\n"
     ]
    }
   ],
   "source": [
    "!cd exercise3 && python main.py"
   ]
  },
  {
   "cell_type": "markdown",
   "metadata": {},
   "source": [
    "The objective is to test every class into `api`. \n",
    "\n",
    "Put all your tests into the following files..."
   ]
  },
  {
   "cell_type": "code",
   "execution_count": 70,
   "metadata": {},
   "outputs": [
    {
     "name": "stdout",
     "output_type": "stream",
     "text": [
      "Overwriting exercise3/tests/test_Employee.py\n"
     ]
    }
   ],
   "source": [
    "%%writefile exercise3/tests/test_Employee.py\n",
    "from api import Employee\n",
    "import unittest\n",
    "\n",
    "# put your tests below\n",
    "class TestEmployee(unittest.TestCase): \n",
    "    def test_employee_name(self):\n",
    "        self.employee = Employee(1, \"aaa\")\n",
    "        self.assertEqual(self.employee.name, \"aaa\")\n",
    "        \n",
    "    def test_employee_identifier(self):\n",
    "        self.employee = Employee(1, \"aaa\")\n",
    "        self.assertEqual(self.employee.identifier, 1)"
   ]
  },
  {
   "cell_type": "code",
   "execution_count": 71,
   "metadata": {},
   "outputs": [
    {
     "name": "stdout",
     "output_type": "stream",
     "text": [
      "Overwriting exercise3/tests/test_SalaryEmployee.py\n"
     ]
    }
   ],
   "source": [
    "%%writefile exercise3/tests/test_SalaryEmployee.py\n",
    "from api import SalaryEmployee\n",
    "import unittest\n",
    "\n",
    "class TestSalaryEmployee(unittest.TestCase): \n",
    "    def test_salary_employee_name(self):\n",
    "        self.salary_employee = SalaryEmployee(2, 'John Smith', 85000)\n",
    "        self.assertEqual(self.salary_employee.name, \"John Smith\")\n",
    "    \n",
    "    def test_salary_employee_identifier(self):\n",
    "        self.salary_employee = SalaryEmployee(2, 'John Smith', 85000)\n",
    "        self.assertEqual(self.salary_employee.identifier, 2)\n",
    "    \n",
    "    def test_salary_employee_pay_month(self):\n",
    "        self.salary_employee = SalaryEmployee(2, 'John Smith', 85000)\n",
    "        self.assertEqual(self.salary_employee.calculate_pay_month(), 85000/12)\n",
    "\n",
    "# put your tests below\n"
   ]
  },
  {
   "cell_type": "code",
   "execution_count": 72,
   "metadata": {},
   "outputs": [
    {
     "name": "stdout",
     "output_type": "stream",
     "text": [
      "Overwriting exercise3/tests/test_HourlyEmployee.py\n"
     ]
    }
   ],
   "source": [
    "%%writefile exercise3/tests/test_HourlyEmployee.py\n",
    "from api import HourlyEmployee\n",
    "import unittest\n",
    "# put your tests below\n",
    "class TestHourlyEmployee(unittest.TestCase): \n",
    "    def test_hourly_employee_name(self):\n",
    "        self.hourly_employee = HourlyEmployee(2, 'Jane Doe', 15)\n",
    "        self.assertEqual(self.hourly_employee.name, \"Jane Doe\")\n",
    "    \n",
    "    def test_hourly_employee_identifier(self):\n",
    "        self.hourly_employee = HourlyEmployee(2, 'Jane Doe', 15)\n",
    "        self.assertEqual(self.hourly_employee.identifier, 2)\n",
    "    \n",
    "    def test_hourly_employee_pay_month(self):\n",
    "        self.hourly_employee = HourlyEmployee(2, 'Jane Doe', 15)\n",
    "        self.hourly_employee.hours_worked = 42\n",
    "        self.assertEqual(self.hourly_employee.calculate_pay_month(), 42*15)"
   ]
  },
  {
   "cell_type": "code",
   "execution_count": 73,
   "metadata": {},
   "outputs": [
    {
     "name": "stdout",
     "output_type": "stream",
     "text": [
      "Overwriting exercise3/tests/test_CommissionEmployee.py\n"
     ]
    }
   ],
   "source": [
    "%%writefile exercise3/tests/test_CommissionEmployee.py\n",
    "from api import CommissionEmployee\n",
    "import unittest\n",
    "# put your tests below\n",
    "class TestCommissionEmployee(unittest.TestCase): \n",
    "    def test_commission_employee_name(self):\n",
    "        self.commission_employee = CommissionEmployee(2, 'Kevin Bacon', 50000, 2500)\n",
    "        self.assertEqual(self.commission_employee.name, \"Kevin Bacon\")\n",
    "    \n",
    "    def test_commission_employee_identifier(self):\n",
    "        self.commission_employee = CommissionEmployee(2, 'Kevin Bacon', 50000, 2500)\n",
    "        self.assertEqual(self.commission_employee.identifier, 2)\n",
    "    \n",
    "    def test_commission_employee_pay_month(self):\n",
    "        self.commission_employee = CommissionEmployee(2, 'Kevin Bacon', 50000, 2500)\n",
    "        self.assertEqual(self.commission_employee.calculate_pay_month(), 50000/12 + 2500)"
   ]
  },
  {
   "cell_type": "markdown",
   "metadata": {},
   "source": [
    "The following is for payroll system. Here you should not use Employees classes, but only mocking them!"
   ]
  },
  {
   "cell_type": "code",
   "execution_count": 151,
   "metadata": {},
   "outputs": [
    {
     "name": "stdout",
     "output_type": "stream",
     "text": [
      "Overwriting exercise3/tests/test_PayrollSystem.py\n"
     ]
    }
   ],
   "source": [
    "%%writefile exercise3/tests/test_PayrollSystem.py\n",
    "from api import PayrollSystem\n",
    "# put your tests below\n",
    "import unittest\n",
    "from unittest.mock import MagicMock, patch\n",
    "class TestPayrollSystem(unittest.TestCase):\n",
    "    # @patch('api.SalaryEmployee')\n",
    "    # def test_add_salary_employee(self, mock_salary_employee):\n",
    "    #     payroll_system = PayrollSystem()\n",
    "    #     instance = mock_salary_employee.return_value\n",
    "    #     instance.identifier = 1\n",
    "    #     instance.name = 'aaa'\n",
    "    #     instance.annual_salary = 85000\n",
    "    #     payroll_system.add_employee(instance)\n",
    "    #     self.assertEqual(payroll_system.employees[1], instance)\n",
    "\n",
    "\n",
    "    def create_instance(self, identifier, name, salary):\n",
    "        instance = MagicMock()\n",
    "        instance.identifier = identifier\n",
    "        instance.name = name\n",
    "        # instance.calculate_pay_month.return_value = salary\n",
    "        instance.calculate_pay_month = Mock(return_value = salary)\n",
    "        return instance\n",
    "\n",
    "    def test_add_employee_using_magic_mock(self):\n",
    "        payroll_system = PayrollSystem()\n",
    "        payroll_system.add_employee(self.create_instance(1, 'aaa', 100))\n",
    "        self.assertEqual(len(payroll_system.employees), 1)\n",
    "\n",
    "    def test_remove_employee_using_magic_mock(self):\n",
    "        payroll_system = PayrollSystem()\n",
    "        payroll_system.add_employee(self.create_instance(1, 'aaa', 100))\n",
    "        self.assertEqual(len(payroll_system.employees), 1)\n",
    "        payroll_system.remove_employee(payroll_system.employees[1])\n",
    "        self.assertEqual(len(payroll_system.employees), 0)\n",
    "        \n",
    "    def test_get_employee_using_magic_mock(self):\n",
    "        payroll_system = PayrollSystem()\n",
    "        instance = self.create_instance(1, 'aaa', 100)\n",
    "        payroll_system.add_employee(instance)\n",
    "        self.assertEqual(payroll_system.get_employee(1), instance)\n",
    "\n",
    "    def test_is_employee_using_magic_mock(self):\n",
    "        payroll_system = PayrollSystem()\n",
    "        instance = self.create_instance(1, 'aaa', 100)\n",
    "        payroll_system.add_employee(instance)\n",
    "        self.assertEqual(payroll_system.is_employee(instance), 1)\n",
    "\n",
    "    def test_calculate_pay_month_using_magic_mock(self):\n",
    "        payroll_system = PayrollSystem()\n",
    "        payroll_system.add_employee(self.create_instance(1, 'aaa', 100))\n",
    "        payroll_system.add_employee(self.create_instance(2, 'bbb', 1000))\n",
    "        result = payroll_system.calculate_pay_month()\n",
    "        self.assertEqual(result[1], 100)\n",
    "        self.assertEqual(result[2], 1000)\n",
    "\n",
    "    def test_calculate_payroll_using_magic_mock(self):\n",
    "        payroll_system = PayrollSystem()\n",
    "        payroll_system.add_employee(self.create_instance(1, 'aaa', 100))\n",
    "        payroll_system.add_employee(self.create_instance(2, 'bbb', 1000))\n",
    "        payroll_system.add_employee(self.create_instance(3, 'ccc', 2500))\n",
    "        result = payroll_system.calculate_payroll()\n",
    "        self.assertEqual(result, 3600)\n",
    "\n",
    "    def test_generate_identifier_using_magic_mock(self):\n",
    "        payroll_system = PayrollSystem()\n",
    "        self.assertEqual(payroll_system.generate_identifier(), 1, \"1\")\n",
    "\n",
    "    def test_generate_identifier_with_multiple_employees_using_magic_mock(self):\n",
    "        payroll_system = PayrollSystem()\n",
    "        payroll_system.add_employee(self.create_instance(1, 'aaa', 100))\n",
    "        payroll_system.add_employee(self.create_instance(2, 'bbb', 1000))\n",
    "        self.assertEqual(payroll_system.generate_identifier(), 3, \"3\")"
   ]
  },
  {
   "cell_type": "markdown",
   "metadata": {},
   "source": [
    "Now, you may run your tests: "
   ]
  },
  {
   "cell_type": "code",
   "execution_count": 152,
   "metadata": {},
   "outputs": [
    {
     "name": "stdout",
     "output_type": "stream",
     "text": [
      ".........Here\n",
      "..........\n",
      "----------------------------------------------------------------------\n",
      "Ran 19 tests in 0.010s\n",
      "\n",
      "OK\n"
     ]
    }
   ],
   "source": [
    "!cd exercise3 && python -m unittest discover -s tests"
   ]
  },
  {
   "cell_type": "markdown",
   "metadata": {},
   "source": [
    "That's all folks!"
   ]
  }
 ],
 "metadata": {
  "kernelspec": {
   "display_name": "Python 3.8.13 ('allenv')",
   "language": "python",
   "name": "python3"
  },
  "language_info": {
   "codemirror_mode": {
    "name": "ipython",
    "version": 3
   },
   "file_extension": ".py",
   "mimetype": "text/x-python",
   "name": "python",
   "nbconvert_exporter": "python",
   "pygments_lexer": "ipython3",
   "version": "3.8.13"
  },
  "orig_nbformat": 4,
  "vscode": {
   "interpreter": {
    "hash": "9fb21341b2262334c6746f00bb237b214a3c5c5b906cfe81d5af4498149236dd"
   }
  }
 },
 "nbformat": 4,
 "nbformat_minor": 2
}
