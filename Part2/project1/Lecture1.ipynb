{
 "cells": [
  {
   "cell_type": "markdown",
   "metadata": {},
   "source": [
    "# Lecture 1: Class in Python\n",
    "\n",
    "This first lecture is based on the website [geeks for geeks](https://www.geeksforgeeks.org/python-classes-and-objects/?ref=lbp).\n",
    "\n",
    "It covers the class, instanciation, inheritance, abstraction and so on."
   ]
  },
  {
   "cell_type": "markdown",
   "metadata": {},
   "source": [
    "## Python Classes and Objects\n",
    "\n",
    "A class is a user-defined blueprint or prototype from which objects are created. Classes provide a means of bundling data and functionality together. Creating a new class creates a new type of object, allowing new instances of that type to be made. Each class instance can have attributes attached to it for maintaining its state. Class instances can also have methods (defined by their class) for modifying their state.\n",
    "\n",
    "To understand the need for creating a class in Python let’s consider an example, let’s say you wanted to track the number of dogs that may have different attributes like breed, and age. If a list is used, the first element could be the dog’s breed while the second element could represent its age. Let’s suppose there are 100 different dogs, then how would you know which element is supposed to be which? What if you wanted to add other properties to these dogs? This lacks organization and it’s the exact need for classes. \n",
    "\n",
    "### Syntax: Class Definition "
   ]
  },
  {
   "cell_type": "code",
   "execution_count": 1,
   "metadata": {},
   "outputs": [],
   "source": [
    "class ClassName:\n",
    "    \"some documentation about this beautiful class\""
   ]
  },
  {
   "cell_type": "markdown",
   "metadata": {},
   "source": [
    "Running the above cell, you may observe the result: a class is defined. \n",
    "The documentation string can be accessed using the `__doc__` attribute (see below).\n",
    "\n",
    "### Syntax: Object Definition"
   ]
  },
  {
   "cell_type": "code",
   "execution_count": 2,
   "metadata": {},
   "outputs": [
    {
     "name": "stdout",
     "output_type": "stream",
     "text": [
      "some documentation about this beautiful class\n"
     ]
    }
   ],
   "source": [
    "obj = ClassName()\n",
    "print(obj.__doc__)"
   ]
  },
  {
   "cell_type": "markdown",
   "metadata": {},
   "source": [
    "Class creates a user-defined data structure, which holds its own data members and member functions, which can be accessed and used by creating an instance of that class. A class is like a blueprint for an object.\n",
    "\n",
    "### Some points on Python class:  \n",
    "\n",
    "- Classes are created by keyword `class`.\n",
    "- Attributes are the variables that belong to a class.\n",
    "- Attributes are always public and can be accessed using the dot (`.`) operator. Eg.: `Myclass.Myattribute`\n",
    "\n",
    "### Defining a class "
   ]
  },
  {
   "cell_type": "code",
   "execution_count": 3,
   "metadata": {},
   "outputs": [],
   "source": [
    "%%python\n",
    "# Python3 program to demonstrate defining a class\n",
    "class Dog:\n",
    "    pass"
   ]
  },
  {
   "cell_type": "markdown",
   "metadata": {},
   "source": [
    "In the above example, the class keyword indicates that you are creating a class followed by the name of the class (Dog in this case).\n",
    "\n",
    "## Class Objects\n",
    "\n",
    "An Object is an **instance of a Class**. \n",
    "\n",
    "A class is like a blueprint while an instance is a copy of the class with actual values. It’s not an idea anymore, it’s an actual dog, like a seven-year-old (age) bulldog (breed) whose color is marron. You can have many dogs to create many instances, but without the class as a guide, you would be lost, not knowing what information is required.\n",
    "\n",
    "An object consists of : \n",
    "- **State**: It is represented by the attributes of an object. It also reflects the properties of an object.\n",
    "- **Behaviour**: It is represented by the methods of an object. It also reflects the response of an object to other objects.\n",
    "- **Identity**: It gives a unique name to an object and enables one object to interact with other objects.\n",
    "\n",
    "<img src=\"images/Blank-Diagram-Page-1-5.png\" width=\"551\" height=\"155\">\n",
    "\n",
    "### Declaring Objects (Also called instantiating a class)\n",
    "\n",
    "When an object of a class is created, the class is said to be instantiated. All the instances share the attributes and the behavior of the class. But the values of those attributes, i.e. the state are unique for each object. A single class may have any number of instances.\n",
    "\n",
    "#### Example:\n",
    "<img src=\"images/Blank-Diagram-Page-1-3.png\" width=\"680\" height=\"302\">"
   ]
  },
  {
   "cell_type": "code",
   "execution_count": 4,
   "metadata": {},
   "outputs": [
    {
     "name": "stdout",
     "output_type": "stream",
     "text": [
      "mammal\n",
      "I'm a mammal\n",
      "I'm a dog\n"
     ]
    }
   ],
   "source": [
    "%%python\n",
    "# Python3 program to demonstrate instantiating a class \n",
    "class Dog: \n",
    "    # Two simple class attributes\n",
    "    attr1 = \"mammal\"\n",
    "    attr2 = \"dog\"\n",
    " \n",
    "    # A sample method\n",
    "    def fun(self):\n",
    "        print(\"I'm a\", self.attr1)\n",
    "        print(\"I'm a\", self.attr2)\n",
    " \n",
    "# Object instantiation\n",
    "Rodger = Dog()\n",
    " \n",
    "# Accessing class attributes and method through objects\n",
    "print(Rodger.attr1)\n",
    "Rodger.fun()"
   ]
  },
  {
   "cell_type": "markdown",
   "metadata": {},
   "source": [
    "In the above example, an object is created which is basically a dog named *Rodger*. This class only has two class attributes that tell us that Rodger is a dog and a mammal, plus a method `fun()`.\n",
    "\n",
    "#### The self\n",
    "- Class methods must have an extra first parameter in the method definition. We do not give a value for this parameter when we call the method, Python provides it.\n",
    "- If we have a method that takes no arguments, we still have one argument.\n",
    "- This is similar to this pointer in C++ and this reference in Java.\n",
    "\n",
    "When we call a method of this object as `myobject.method(arg1, arg2)`, this is automatically converted by Python into `MyClass.method(myobject, arg1, arg2)` – this is all the special self is about.\n",
    "\n",
    "### The constructor (or `__init__` method)\n",
    "The `__init__` method is similar to constructors in C++ and Java. Constructors are used to initialize the object’s state. Like methods, a constructor also contains a collection of statements (*i.e.* instructions) that are executed at the time of Object creation. It runs as soon as an object of a class is instantiated. The method is useful to do any initialization you want to do with your object."
   ]
  },
  {
   "cell_type": "code",
   "execution_count": 5,
   "metadata": {},
   "outputs": [
    {
     "name": "stdout",
     "output_type": "stream",
     "text": [
      "Hello, my name is Nikhil\n"
     ]
    }
   ],
   "source": [
    "%%python\n",
    "# Sample class with init method\n",
    "class Person:\n",
    " \n",
    "    # init method or constructor\n",
    "    def __init__(self, name):\n",
    "        self.name = name\n",
    " \n",
    "    # Sample Method\n",
    "    def say_hi(self):\n",
    "        print('Hello, my name is', self.name)\n",
    "\n",
    "p = Person('Nikhil')\n",
    "p.say_hi()"
   ]
  },
  {
   "cell_type": "markdown",
   "metadata": {},
   "source": [
    "Notice that a class can have at most two constructors:\n",
    "- One with no argument, called the **default constructor**\n",
    "- And one with some arguments, potentially using **default values** (at the end).\n",
    "\n",
    "\n",
    "### Class and Instance Variables\n",
    "\n",
    "Instance variables are for data, unique to each instance and class variables are for attributes and methods shared by all instances of the class. Instance variables are variables whose value is assigned inside a constructor or method with self whereas class variables are variables whose value is assigned in the class.\n",
    "\n",
    "Notice that sometimes the instance variables are called the **data members**, and the class variables the **static data members**.\n",
    "\n",
    "Example showing how to define instance variables using a constructor:"
   ]
  },
  {
   "cell_type": "code",
   "execution_count": 6,
   "metadata": {},
   "outputs": [
    {
     "name": "stdout",
     "output_type": "stream",
     "text": [
      "Rodger details:\n",
      "- he is a dog his breed is  Pug and his color:  brown\n",
      "\n",
      "Buzo details:\n",
      "- he is a dog his breed is  Bulldog and his color:  black\n",
      "\n",
      "Accessing class variable using class name\n",
      "dog\n"
     ]
    }
   ],
   "source": [
    "%%python\n",
    "# Python3 program to show that the variables with a value assigned in the class declaration, are class variables and\n",
    "# variables inside methods and constructors are instance variables.\n",
    " \n",
    "# Class for Dog \n",
    "class Dog:\n",
    " \n",
    "    # Class Variable\n",
    "    animal = 'dog'\n",
    " \n",
    "    # The init method or constructor\n",
    "    def __init__(self, breed, color):\n",
    "        # Instance Variable\n",
    "        self.breed = breed\n",
    "        self.color = color\n",
    "\n",
    "# Objects of Dog class\n",
    "Rodger = Dog(\"Pug\", \"brown\")\n",
    "Buzo = Dog(\"Bulldog\", \"black\")\n",
    " \n",
    "print('Rodger details:')\n",
    "print('- he is a', Rodger.animal, 'his breed is ', Rodger.breed, 'and his color: ', Rodger.color)\n",
    " \n",
    "print('\\nBuzo details:')\n",
    "print('- he is a', Buzo.animal, 'his breed is ', Buzo.breed, 'and his color: ', Buzo.color)\n",
    " \n",
    "# Class variables can be accessed using class\n",
    "# name also\n",
    "print(\"\\nAccessing class variable using class name\")\n",
    "print(Dog.animal)"
   ]
  },
  {
   "cell_type": "markdown",
   "metadata": {},
   "source": [
    "The following example shows how to define instance variables using the normal method (using *setters* and *getters*):"
   ]
  },
  {
   "cell_type": "code",
   "execution_count": 7,
   "metadata": {},
   "outputs": [
    {
     "name": "stdout",
     "output_type": "stream",
     "text": [
      "brown\n",
      "white\n",
      "undefined\n"
     ]
    }
   ],
   "source": [
    "%%python\n",
    "# Python3 program to show that we can create instance variables inside methods\n",
    " \n",
    "# Class for Dog\n",
    "class Dog:\n",
    " \n",
    "    # Class Variable\n",
    "    animal = 'dog'\n",
    " \n",
    "    # The default constructor with no parameter\n",
    "    def __init__(self): \n",
    "        # Instance Variable\n",
    "        self.breed = \"undefined\"\n",
    "        self.color = \"undefined\"\n",
    "\n",
    "    # The constructor with parameters and on default value\n",
    "    def __init__(self, breed, color=\"undefined\"): \n",
    "        # Instance Variable\n",
    "        self.breed = breed\n",
    "        self.color = color\n",
    " \n",
    "    # Adds an instance variable\n",
    "    def setColor(self, color):\n",
    "        self.color = color\n",
    "        # it is good practice to return this instance into setters:\n",
    "        return self\n",
    " \n",
    "    # Retrieves instance variable\n",
    "    def getColor(self):\n",
    "        return self.color\n",
    "\n",
    "Rodger = Dog(\"pug\")\n",
    "Rodger.setColor(\"brown\")\n",
    "print(Rodger.getColor())\n",
    "# or with functional style:\n",
    "print(Dog(\"pug\").setColor(\"white\").getColor())\n",
    "print(Dog(\"pug\").getColor())"
   ]
  },
  {
   "cell_type": "markdown",
   "metadata": {},
   "source": [
    "## Constructors in Python\n",
    "This section comes again onto the two constructors to insist on theirs specificities.\n",
    "\n",
    "Constructors are generally used for instantiating an object. The task of constructors is to initialize (to assign values) to the data members of the class when an object of the class is created. \n",
    "In Python the `__init__()` method is called the constructor and is always called when an object is created.\n",
    "\n",
    "### Types of constructors : \n",
    "- Default constructor: The default constructor is a simple constructor which doesn’t accept any arguments. Its definition has only one argument which is a reference to the instance being constructed.\n",
    "- Parameterized constructor: constructor with parameters is known as parameterized constructor. The parameterized constructor takes its first argument as a reference to the instance being constructed known as self and the rest of the arguments are provided by the programmer.\n",
    "\n",
    "#### Example of default constructor: "
   ]
  },
  {
   "cell_type": "code",
   "execution_count": 8,
   "metadata": {},
   "outputs": [
    {
     "name": "stdout",
     "output_type": "stream",
     "text": [
      "GeekforGeeks\n"
     ]
    }
   ],
   "source": [
    "%%python\n",
    "class GeekforGeeks:\n",
    " \n",
    "    # default constructor\n",
    "    def __init__(self):\n",
    "        self.geek = \"GeekforGeeks\"\n",
    " \n",
    "    # a method for printing data members\n",
    "    def print_Geek(self):\n",
    "        print(self.geek)\n",
    " \n",
    " \n",
    "# creating object of the class\n",
    "obj = GeekforGeeks()\n",
    " \n",
    "# calling the instance method using the object obj\n",
    "obj.print_Geek()"
   ]
  },
  {
   "cell_type": "markdown",
   "metadata": {},
   "source": [
    "#### Example of the parameterized constructor : "
   ]
  },
  {
   "cell_type": "code",
   "execution_count": 9,
   "metadata": {},
   "outputs": [
    {
     "name": "stdout",
     "output_type": "stream",
     "text": [
      "First number = 1000\n",
      "Second number = 2000\n",
      "Addition of two numbers = 3000\n"
     ]
    }
   ],
   "source": [
    "%%python\n",
    "class Addition:\n",
    "    first = 0\n",
    "    second = 0\n",
    "    answer = 0\n",
    "     \n",
    "    # parameterized constructor\n",
    "    def __init__(self, f, s):\n",
    "        self.first = f\n",
    "        self.second = s\n",
    "     \n",
    "    def display(self):\n",
    "        print(f\"First number = {self.first}\")\n",
    "        print(f\"Second number = {self.second}\")\n",
    "        print(f\"Addition of two numbers = {self.answer}\")\n",
    " \n",
    "    def calculate(self):\n",
    "        self.answer = self.first + self.second\n",
    " \n",
    "# creating object of the class\n",
    "# this will invoke parameterized constructor\n",
    "obj = Addition(1000, 2000)\n",
    " \n",
    "# perform Addition\n",
    "obj.calculate()\n",
    " \n",
    "# display result\n",
    "obj.display()"
   ]
  },
  {
   "cell_type": "markdown",
   "metadata": {},
   "source": [
    "## Destructors in Python\n",
    "Destructors are called when an object gets destroyed. \n",
    "In Python, destructors are not needed as much as in C++ because Python has a garbage collector that handles memory management automatically (like Java). \n",
    "\n",
    "The `__del__()` method is known as a destructor method in Python. \n",
    "It is called when all references to the object have been deleted, *i.e* when an object is garbage collected.\n",
    "It is the equivalent of the Java function `finalize()`.\n",
    "\n",
    "**Nota bene**: An object is deleted when the object goes out of reference or when the program ends. \n",
    "\n",
    "Example 1: Here is the simple example of destructor. By using `del` keyword we deleted one reference of object ‘obj’, the last one, therefore the destructor invoked automatically."
   ]
  },
  {
   "cell_type": "code",
   "execution_count": 10,
   "metadata": {},
   "outputs": [
    {
     "name": "stdout",
     "output_type": "stream",
     "text": [
      "Employee created.\n",
      "Destructor called, Employee deleted.\n",
      "No more reference exists!\n"
     ]
    }
   ],
   "source": [
    "%%python\n",
    "# Python program to illustrate destructor\n",
    "class Employee:\n",
    " \n",
    "    # Initializing\n",
    "    def __init__(self):\n",
    "        print('Employee created.')\n",
    " \n",
    "    # Deleting (Calling destructor)\n",
    "    def __del__(self):\n",
    "        print('Destructor called, Employee deleted.')\n",
    " \n",
    "obj = Employee()\n",
    "del obj # obj is no more usable!\n",
    "print(\"No more reference exists!\") # this will displayed after the destructor call!"
   ]
  },
  {
   "cell_type": "markdown",
   "metadata": {},
   "source": [
    "Notice that the destructor is call when all the references are deleted. As example, we modify the last lines of the preceding example:"
   ]
  },
  {
   "cell_type": "code",
   "execution_count": 11,
   "metadata": {},
   "outputs": [
    {
     "name": "stdout",
     "output_type": "stream",
     "text": [
      "Employee created.\n",
      "There still exists (one) reference!\n",
      "Destructor called, Employee deleted.\n"
     ]
    }
   ],
   "source": [
    "%%python\n",
    "# Python program to illustrate destructor\n",
    "class Employee:\n",
    " \n",
    "    # Initializing\n",
    "    def __init__(self):\n",
    "        print('Employee created.')\n",
    " \n",
    "    # Deleting (Calling destructor)\n",
    "    def __del__(self):\n",
    "        print('Destructor called, Employee deleted.')\n",
    " \n",
    "obj = Employee()\n",
    "obj1 = obj # oups, we have two references to the same object\n",
    "del obj # we delete one reference...\n",
    "print(\"There still exists (one) reference!\") # this will be print before the delete!"
   ]
  },
  {
   "cell_type": "markdown",
   "metadata": {},
   "source": [
    "As you can see, the destructor is called even if we don't delete all the references... This is done at the end of the program (and it explains why we cannot do that into Jupyter cells, the program being running...).\n",
    "\n",
    "This behavior is linked to the life-cycle of variables. \n",
    "For instance consider the following example:"
   ]
  },
  {
   "cell_type": "code",
   "execution_count": 12,
   "metadata": {},
   "outputs": [
    {
     "name": "stdout",
     "output_type": "stream",
     "text": [
      "Calling Create_obj() function...\n",
      "Making Object...\n",
      "Employee created\n",
      "function end...\n",
      "Employee created\n",
      "Destructor called\n",
      "Program End...\n",
      "Destructor called\n"
     ]
    }
   ],
   "source": [
    "%%python\n",
    "# Python program to illustrate destructor\n",
    "class Employee: \n",
    "    # Initializing\n",
    "    def __init__(self):\n",
    "        print('Employee created')\n",
    " \n",
    "    # Calling destructor\n",
    "    def __del__(self):\n",
    "        print(\"Destructor called\")\n",
    " \n",
    "# function that builds an Employee\n",
    "def Create_obj():\n",
    "    print('Making Object...')\n",
    "    obj = Employee()\n",
    "    print('function end...')\n",
    "    return Employee()\n",
    " \n",
    "print('Calling Create_obj() function...')\n",
    "obj = Create_obj()\n",
    "print('Program End...')"
   ]
  },
  {
   "cell_type": "markdown",
   "metadata": {},
   "source": [
    "In this example, we have built two instances. \n",
    "- The first one is build into the `Create_obj()`function after displaying `Making object...`. \n",
    "- Then we display `function end...`. \n",
    "- Before to exist from this function, we create one more instance and return it, so the second display of `Employee created`. \n",
    "- The exit produces the message `Destructor called`. This is because the sole reference to the first Employee becomes out-of-scope (declared inside the function `Create_obj()`).\n",
    "- Then the message `Program End...` is displayed before the message `Destructor called` because there is one reference of the last object (the variable `obj`). \n",
    "\n",
    "Let us consider a last example, involving **circular references**:"
   ]
  },
  {
   "cell_type": "code",
   "execution_count": 13,
   "metadata": {},
   "outputs": [
    {
     "name": "stdout",
     "output_type": "stream",
     "text": [
      "it is weird, no?\n",
      "die B\n",
      "die A\n"
     ]
    }
   ],
   "source": [
    "%%python\n",
    "# Python program to illustrate destructor\n",
    "\n",
    "class A:\n",
    "\tdef __init__(self, bb):\n",
    "\t\tself.b = bb\n",
    "\tdef __del__(self):\n",
    "\t\tprint(\"die A\")\n",
    "\n",
    "class B:\n",
    "\tdef __init__(self):\n",
    "\t\tself.a = A(self) # ouch, circular!\n",
    "\tdef __del__(self):\n",
    "\t\tprint(\"die B\")\n",
    "\n",
    "def fun():\n",
    "\tb = B()\n",
    "\n",
    "fun()\n",
    "print(\"it is weird, no?\")"
   ]
  },
  {
   "cell_type": "markdown",
   "metadata": {},
   "source": [
    "In this example when the function `fun()` is called, it creates an instance of class `B` which passes itself to class `A`, which then sets a reference to class `B` resulting in a circular reference.\n",
    "\n",
    "Generally, Python’s garbage collector which is used to detect these types of cyclic references would remove it but in this example the use of custom destructor marks this item as *“uncollectable”*. \n",
    "\n",
    "Simply, it doesn’t know the order in which to destroy the objects, so it leaves them. \n",
    "Therefore, **if your instances are involved in circular references they will live in memory for as long as the application run**.\n",
    "\n",
    "## Inheritance in Python\n",
    "\n",
    "Inheritance is the capability of one class to derive or inherit the properties from another class. \n",
    "\n",
    "### Benefits of inheritance are: \n",
    "- It represents real-world relationships well.\n",
    "- It provides the reusability of a code. We don’t have to write the same code again and again. Also, it allows us to add more features to a class without modifying it.\n",
    "- It is transitive in nature, which means that if class `B` inherits from another class `A`, then all the subclasses of `B` would automatically inherit from class `A`.\n",
    "\n",
    "### Creating a Parent Class\n",
    "Let us take an example, by creating a `Person` class with a `Display` method."
   ]
  },
  {
   "cell_type": "code",
   "execution_count": 14,
   "metadata": {},
   "outputs": [
    {
     "name": "stdout",
     "output_type": "stream",
     "text": [
      "Satyam 102\n"
     ]
    }
   ],
   "source": [
    "%%python\n",
    "# A Python program to demonstrate inheritance\n",
    "class Person:\n",
    "   \n",
    "  # Constructor\n",
    "  def __init__(self, name, id):\n",
    "    self.name = name\n",
    "    self.id = id\n",
    " \n",
    "  # To check if this person is an employee\n",
    "  def Display(self):\n",
    "    print(self.name, self.id) \n",
    "\n",
    "# Driver code\n",
    "emp = Person(\"Satyam\", 102) # An instance of Person\n",
    "emp.Display()"
   ]
  },
  {
   "cell_type": "markdown",
   "metadata": {},
   "source": [
    "### Creating a Child Class\n",
    "\n",
    "Here `Employee` is another class which is going to inherit the properties of the `Person` class (known as the **base class**)."
   ]
  },
  {
   "cell_type": "code",
   "execution_count": 15,
   "metadata": {},
   "outputs": [
    {
     "name": "stdout",
     "output_type": "stream",
     "text": [
      "Mayank 103\n",
      "Emp class called\n"
     ]
    }
   ],
   "source": [
    "%%python\n",
    "class Person:\n",
    "  # Constructor\n",
    "  def __init__(self, name, id):\n",
    "    self.name = name\n",
    "    self.id = id\n",
    " \n",
    "  # To check if this person is an employee\n",
    "  def Display(self):\n",
    "    print(self.name, self.id) \n",
    "\n",
    "class Employee(Person):\n",
    "  def Print(self):\n",
    "    print(\"Emp class called\")\n",
    "     \n",
    "Emp_details = Employee(\"Mayank\", 103)\n",
    " \n",
    "# calling parent class function\n",
    "Emp_details.Display()\n",
    " \n",
    "# Calling child class function\n",
    "Emp_details.Print()"
   ]
  },
  {
   "cell_type": "markdown",
   "metadata": {},
   "source": [
    "Let us see another example with different methods."
   ]
  },
  {
   "cell_type": "code",
   "execution_count": 16,
   "metadata": {},
   "outputs": [
    {
     "name": "stdout",
     "output_type": "stream",
     "text": [
      "Geek1 False\n",
      "Geek2 True\n"
     ]
    }
   ],
   "source": [
    "%%python\n",
    "\n",
    "# A Python program to demonstrate inheritance\n",
    " \n",
    "# Base or Super class. Note object in bracket.\n",
    "# (Generally, object is made ancestor of all classes)\n",
    "# In Python 3.x \"class Person\" is\n",
    "# equivalent to \"class Person(object)\"\n",
    " \n",
    "class Person(object): \n",
    "    # Constructor\n",
    "    def __init__(self, name):\n",
    "        self.name = name\n",
    " \n",
    "    # To get name\n",
    "    def getName(self):\n",
    "        return self.name\n",
    " \n",
    "    # To check if this person is an employee\n",
    "    def isEmployee(self):\n",
    "        return False\n",
    " \n",
    " \n",
    "# Inherited or Subclass (Note Person in bracket)\n",
    "class Employee(Person): \n",
    "    # Here we return true\n",
    "    def isEmployee(self):\n",
    "        return True\n",
    " \n",
    " \n",
    "# Driver code\n",
    "emp = Person(\"Geek1\")  # An Object of Person\n",
    "print(emp.getName(), emp.isEmployee())\n",
    " \n",
    "emp = Employee(\"Geek2\")  # An Object of Employee\n",
    "print(emp.getName(), emp.isEmployee())"
   ]
  },
  {
   "cell_type": "markdown",
   "metadata": {},
   "source": [
    "### What is the `object` class?\n",
    "\n",
    "Like the Java Object class, in Python (from version 3. x), the object is the root of all classes. \n",
    "- In Python 3.x, `class Test(object)` and `class Test` are same. \n",
    "- In Python 2.x, `class Test(object)` creates a class with the object as a parent (called a *new-style class*), and `class Test` creates an *old-style class* (without an objecting parent). \n",
    "\n",
    "Notice that the old-style class is no more available in Python 3.x.\n",
    "\n",
    "### Subclassing (Calling constructor of parent class)\n",
    "A child class needs to identify which class is its parent class. This can be done by mentioning the parent class name in the definition of the child class. \n",
    "\n",
    "Moreover, the child can explicitly call the constructor of the parent class, into its own constructor (the same for any method).\n",
    "\n",
    "*E.g.*: `class subclass_name (superclass_name):` "
   ]
  },
  {
   "cell_type": "code",
   "execution_count": 17,
   "metadata": {},
   "outputs": [
    {
     "name": "stdout",
     "output_type": "stream",
     "text": [
      "Person(Rahul, 886012)\n"
     ]
    }
   ],
   "source": [
    "%%python\n",
    "# Python code to demonstrate how parent constructors are called.\n",
    " \n",
    "# parent class\n",
    "class Person(object): \n",
    "    def __init__(self, name, idnumber):\n",
    "        self.name = name\n",
    "        self.idnumber = idnumber\n",
    " \n",
    "    def display(self):\n",
    "        print(f'Person({self.name}, {self.idnumber})')\n",
    " \n",
    "# child class\n",
    "class Employee(Person):\n",
    "    def __init__(self, name, idnumber, salary, post):\n",
    "        # invoking the __init__ of the parent class!!\n",
    "        Person.__init__(self, name, idnumber)\n",
    "        # sets specific members\n",
    "        self.salary = salary\n",
    "        self.post = post \n",
    "\n",
    "# creation of an object variable or an instance\n",
    "a = Employee('Rahul', 886012, 200000, \"Intern\")\n",
    " \n",
    "# calling a function of the class Person using its instance\n",
    "a.display()"
   ]
  },
  {
   "cell_type": "markdown",
   "metadata": {},
   "source": [
    "`a` is the instance created for the class Person. \n",
    "It invokes the `__init__()` of the referred class. \n",
    "You can see `object` written in the declaration of the class `Person`. \n",
    "In Python, every class inherits from a built-in basic class called `object`. \n",
    "The constructor is invoked when we create an object variable or an instance of the class.\n",
    "\n",
    "The variables defined within `__init__()` are called the instance variables or data members. \n",
    "Hence, `name` and `idnumber` are the data members of the class `Person`. \n",
    "Similarly, `salary` and `post` are the data members of the class `Employee`. \n",
    "Since the class `Employee` inherits from class `Person`, `name` and `idnumber` are also the data members of class `Employee`.\n",
    "\n",
    "### Python program to demonstrate error if we forget to invoke `__init__()` of the parent\n",
    "If you forget to invoke the `__init__()` of the parent class then its instance variables would not be available to the child class. \n",
    "\n",
    "The following code produces an error for the same reason. "
   ]
  },
  {
   "cell_type": "code",
   "execution_count": 18,
   "metadata": {},
   "outputs": [
    {
     "name": "stderr",
     "output_type": "stream",
     "text": [
      "Traceback (most recent call last):\n",
      "  File \"<stdin>\", line 10, in <module>\n",
      "AttributeError: 'B' object has no attribute 'name'\n"
     ]
    },
    {
     "ename": "CalledProcessError",
     "evalue": "Command 'b\"class A:\\n\\tdef __init__(self, n='Rahul'):\\n\\t\\tself.name = n\\n\\nclass B(A):\\n\\tdef __init__(self, roll):\\n\\t\\tself.roll = roll\\n\\nobject = B(23)\\nprint(object.name) # error, since name is undefined by B.__init__()\\n\"' returned non-zero exit status 1.",
     "output_type": "error",
     "traceback": [
      "\u001b[0;31m---------------------------------------------------------------------------\u001b[0m",
      "\u001b[0;31mCalledProcessError\u001b[0m                        Traceback (most recent call last)",
      "Cell \u001b[0;32mIn [18], line 1\u001b[0m\n\u001b[0;32m----> 1\u001b[0m get_ipython()\u001b[39m.\u001b[39;49mrun_cell_magic(\u001b[39m'\u001b[39;49m\u001b[39mpython\u001b[39;49m\u001b[39m'\u001b[39;49m, \u001b[39m'\u001b[39;49m\u001b[39m'\u001b[39;49m, \u001b[39m\"\u001b[39;49m\u001b[39mclass A:\u001b[39;49m\u001b[39m\\n\u001b[39;49;00m\u001b[39m\\t\u001b[39;49;00m\u001b[39mdef __init__(self, n=\u001b[39;49m\u001b[39m'\u001b[39;49m\u001b[39mRahul\u001b[39;49m\u001b[39m'\u001b[39;49m\u001b[39m):\u001b[39;49m\u001b[39m\\n\u001b[39;49;00m\u001b[39m\\t\u001b[39;49;00m\u001b[39m\\t\u001b[39;49;00m\u001b[39mself.name = n\u001b[39;49m\u001b[39m\\n\u001b[39;49;00m\u001b[39m\\n\u001b[39;49;00m\u001b[39mclass B(A):\u001b[39;49m\u001b[39m\\n\u001b[39;49;00m\u001b[39m\\t\u001b[39;49;00m\u001b[39mdef __init__(self, roll):\u001b[39;49m\u001b[39m\\n\u001b[39;49;00m\u001b[39m\\t\u001b[39;49;00m\u001b[39m\\t\u001b[39;49;00m\u001b[39mself.roll = roll\u001b[39;49m\u001b[39m\\n\u001b[39;49;00m\u001b[39m\\n\u001b[39;49;00m\u001b[39mobject = B(23)\u001b[39;49m\u001b[39m\\n\u001b[39;49;00m\u001b[39mprint(object.name) # error, since name is undefined by B.__init__()\u001b[39;49m\u001b[39m\\n\u001b[39;49;00m\u001b[39m\"\u001b[39;49m)\n",
      "File \u001b[0;32m~/anaconda3/envs/allenv/lib/python3.8/site-packages/IPython/core/interactiveshell.py:2417\u001b[0m, in \u001b[0;36mInteractiveShell.run_cell_magic\u001b[0;34m(self, magic_name, line, cell)\u001b[0m\n\u001b[1;32m   2415\u001b[0m \u001b[39mwith\u001b[39;00m \u001b[39mself\u001b[39m\u001b[39m.\u001b[39mbuiltin_trap:\n\u001b[1;32m   2416\u001b[0m     args \u001b[39m=\u001b[39m (magic_arg_s, cell)\n\u001b[0;32m-> 2417\u001b[0m     result \u001b[39m=\u001b[39m fn(\u001b[39m*\u001b[39;49margs, \u001b[39m*\u001b[39;49m\u001b[39m*\u001b[39;49mkwargs)\n\u001b[1;32m   2418\u001b[0m \u001b[39mreturn\u001b[39;00m result\n",
      "File \u001b[0;32m~/anaconda3/envs/allenv/lib/python3.8/site-packages/IPython/core/magics/script.py:153\u001b[0m, in \u001b[0;36mScriptMagics._make_script_magic.<locals>.named_script_magic\u001b[0;34m(line, cell)\u001b[0m\n\u001b[1;32m    151\u001b[0m \u001b[39melse\u001b[39;00m:\n\u001b[1;32m    152\u001b[0m     line \u001b[39m=\u001b[39m script\n\u001b[0;32m--> 153\u001b[0m \u001b[39mreturn\u001b[39;00m \u001b[39mself\u001b[39;49m\u001b[39m.\u001b[39;49mshebang(line, cell)\n",
      "File \u001b[0;32m~/anaconda3/envs/allenv/lib/python3.8/site-packages/IPython/core/magics/script.py:305\u001b[0m, in \u001b[0;36mScriptMagics.shebang\u001b[0;34m(self, line, cell)\u001b[0m\n\u001b[1;32m    300\u001b[0m \u001b[39mif\u001b[39;00m args\u001b[39m.\u001b[39mraise_error \u001b[39mand\u001b[39;00m p\u001b[39m.\u001b[39mreturncode \u001b[39m!=\u001b[39m \u001b[39m0\u001b[39m:\n\u001b[1;32m    301\u001b[0m     \u001b[39m# If we get here and p.returncode is still None, we must have\u001b[39;00m\n\u001b[1;32m    302\u001b[0m     \u001b[39m# killed it but not yet seen its return code. We don't wait for it,\u001b[39;00m\n\u001b[1;32m    303\u001b[0m     \u001b[39m# in case it's stuck in uninterruptible sleep. -9 = SIGKILL\u001b[39;00m\n\u001b[1;32m    304\u001b[0m     rc \u001b[39m=\u001b[39m p\u001b[39m.\u001b[39mreturncode \u001b[39mor\u001b[39;00m \u001b[39m-\u001b[39m\u001b[39m9\u001b[39m\n\u001b[0;32m--> 305\u001b[0m     \u001b[39mraise\u001b[39;00m CalledProcessError(rc, cell)\n",
      "\u001b[0;31mCalledProcessError\u001b[0m: Command 'b\"class A:\\n\\tdef __init__(self, n='Rahul'):\\n\\t\\tself.name = n\\n\\nclass B(A):\\n\\tdef __init__(self, roll):\\n\\t\\tself.roll = roll\\n\\nobject = B(23)\\nprint(object.name) # error, since name is undefined by B.__init__()\\n\"' returned non-zero exit status 1."
     ]
    }
   ],
   "source": [
    "%%python\n",
    "class A:\n",
    "\tdef __init__(self, n='Rahul'):\n",
    "\t\tself.name = n\n",
    "\n",
    "class B(A):\n",
    "\tdef __init__(self, roll):\n",
    "\t\tself.roll = roll\n",
    "\n",
    "object = B(23)\n",
    "print(object.name) # error, since name is undefined by B.__init__()"
   ]
  },
  {
   "cell_type": "markdown",
   "metadata": {},
   "source": [
    "### Different types of Inheritance:\n",
    "- Single inheritance: When a child class inherits from only one parent class, it is called single inheritance. We saw an example above.\n",
    "\n",
    "<img src=\"images/Single-Inheritance.png\" width=\"335\" height=\"294\">\n",
    "\n",
    "- Multiple inheritances: When a child class inherits from multiple parent classes, it is called multiple inheritances. \n",
    "\n",
    "<img src=\"images/Multiple-Inheritance.png\" width=\"373\" height=\"366\">\n",
    "\n",
    "- Hierarchical inheritance More than one derived class are created from a single base.\n",
    "\n",
    "<img src=\"images/Hierarchical-Inheritance.png\" width=\"478\" height=\"280\">\n",
    "\n",
    "- Hybrid inheritance: This form combines more than one form of inheritance. Basically, it is a blend of more than one type of inheritance.\n",
    "\n",
    "<img src=\"images/Hybrid-Inheritance.png\" width=\"702\" height=\"355\">\n",
    "\n",
    "Unlike java but like C++, python shows **multiple inheritances**. Let us see a first example:"
   ]
  },
  {
   "cell_type": "code",
   "execution_count": null,
   "metadata": {},
   "outputs": [],
   "source": [
    "%%python\n",
    "# Python example to show the working of multiple inheritance\n",
    "class Base1(object):\n",
    "\tdef __init__(self):\n",
    "\t\tself.str1 = \"Geek1\"\n",
    "\t\tprint(\"Base1\")\n",
    "\n",
    "class Base2(object):\n",
    "\tdef __init__(self):\n",
    "\t\tself.str2 = \"Geek2\"\n",
    "\t\tprint(\"Base2\")\n",
    "\n",
    "class Derived(Base1, Base2):\n",
    "\tdef __init__(self):\n",
    "\t\t# Calling constructors of Base1\n",
    "\t\t# and Base2 classes\n",
    "\t\tBase1.__init__(self)\n",
    "\t\tBase2.__init__(self)\n",
    "\t\tprint(\"Derived\")\n",
    "\n",
    "\tdef printStrs(self):\n",
    "\t\tprint(self.str1, self.str2)\n",
    "\n",
    "Derived().printStrs()"
   ]
  },
  {
   "cell_type": "markdown",
   "metadata": {},
   "source": [
    "### Multilevel inheritance: When we have a child and grandchild relationship. \n",
    "\n",
    "In the following example, the class `GrandChild` inherits from the class `Child`, that inherits from `Base`. Hence, the first inherits of the third and can see its members and call its methods..."
   ]
  },
  {
   "cell_type": "code",
   "execution_count": null,
   "metadata": {},
   "outputs": [],
   "source": [
    "%%python\n",
    "# A Python program to demonstrate multilevel inheritance\n",
    "\n",
    "class Base(object):\n",
    "\t# Constructor\n",
    "\tdef __init__(self, name):\n",
    "\t\tself.name = name\n",
    "\n",
    "\t# To get name\n",
    "\tdef getName(self):\n",
    "\t\treturn self.name\n",
    "\n",
    "# Inherited or Sub class (Note Base in bracket)\n",
    "class Child(Base):\n",
    "\t# Constructor\n",
    "\tdef __init__(self, name, age):\n",
    "\t\tBase.__init__(self, name)\n",
    "\t\tself.age = age\n",
    "\n",
    "\t# To get age\n",
    "\tdef getAge(self):\n",
    "\t\treturn self.age\n",
    "\n",
    "# Inherited or Sub class (Note Child in bracket)\n",
    "class GrandChild(Child):\n",
    "\t# Constructor\n",
    "\tdef __init__(self, name, age, address):\n",
    "\t\tChild.__init__(self, name, age)\n",
    "\t\tself.address = address\n",
    "\n",
    "\t# To get address\n",
    "\tdef getAddress(self):\n",
    "\t\treturn self.address\n",
    "\n",
    "# Driver code\n",
    "g = GrandChild(\"Geek1\", 23, \"Noida\")\n",
    "print(f\"Grandchild({g.getName()}, {g.getAge()}, {g.getAddress()})\")\n"
   ]
  },
  {
   "cell_type": "markdown",
   "metadata": {},
   "source": [
    "In Python, each value is an object, and therefore has a class (also called its type). It is stored as `object.__class__`.\n",
    "\n",
    "Python has two built-in functions that work with inheritance:\n",
    "- Use `isinstance()` to check an instance’s type: `isinstance(obj, int)` will be `True` only if `obj.__class__` is `int` or some class derived from `int`.\n",
    "- Use `issubclass()` to check class inheritance: `issubclass(bool, int)` is `True` since `bool` is a subclass of `int`. However, `issubclass(float, int)` is `False` since `float` is not a subclass of `int`."
   ]
  },
  {
   "cell_type": "code",
   "execution_count": null,
   "metadata": {},
   "outputs": [
    {
     "name": "stdout",
     "output_type": "stream",
     "text": [
      "<class 'int'>\n",
      "<class 'float'>\n",
      "<class '__main__.EmptyClass'>\n",
      "<class 'type'>\n",
      "True\n",
      "True\n"
     ]
    }
   ],
   "source": [
    "%%python\n",
    "one=1\n",
    "print(one.__class__)\n",
    "two=2.0\n",
    "print(two.__class__)\n",
    "\n",
    "class EmptyClass:\n",
    "    pass\n",
    "print(EmptyClass().__class__)\n",
    "\n",
    "class LessEmptyClass(EmptyClass):\n",
    "    thing = 42\n",
    "print(LessEmptyClass.__class__)\n",
    "\n",
    "print(isinstance(LessEmptyClass(), EmptyClass))\n",
    "print(issubclass(LessEmptyClass, EmptyClass))"
   ]
  },
  {
   "cell_type": "markdown",
   "metadata": {},
   "source": [
    "# Encapsulation in Python\n",
    "Encapsulation is one of the **fundamental concepts in object-oriented programming** (OOP). \n",
    "It describes the idea of wrapping data and the methods that work on data within one unit. \n",
    "This puts restrictions on accessing variables and methods directly and can prevent the accidental modification of data. \n",
    "To prevent accidental change, an object’s variable can only be changed by an object’s method. \n",
    "Those types of variables are known as private or protected variables.\n",
    "\n",
    "A class is an example of encapsulation as it encapsulates all the data that is member functions, variables, etc.\n",
    "\n",
    "A good design of any application relies on data encapsulation, aka *pure OOP*.\n",
    "\n",
    "Consider a real-life example of encapsulation: in a company, there are different sections like the accounts section, finance section, sales section etc. \n",
    "The finance section handles all the financial transactions and keeps records of all the data related to finance. \n",
    "Similarly, the sales section handles all the sales-related activities and keeps records of all the sales. \n",
    "Now there may arise a situation when for some reason an official from the finance section needs all the data about sales in a particular month. \n",
    "In this case, he is not allowed to directly access the data of the sales section. \n",
    "He will first have to contact some other officer in the sales section and then request him to give the particular data. \n",
    "This is what encapsulation is. \n",
    "Here the data of the sales section and the employees that can manipulate them are wrapped under a single name “sales section”. \n",
    "Using encapsulation also hides the data. \n",
    "In this example, the data of the sections like sales, finance, or accounts are hidden from any other section.\n",
    "\n",
    "## Protected members\n",
    "\n",
    "Protected members (in C++, C# and JAVA) are those members of the class that cannot be accessed outside the class but can be accessed from within the class and its subclasses. \n",
    "To accomplish this in Python, just follow the convention by prefixing the name of the member by a single underscore “_”.\n",
    "\n",
    "Although the protected variable can be accessed out of the class as well as in the derived class (modified too in derived class), it is customary (a **convention** not a rule) to not access the protected out the class body."
   ]
  },
  {
   "cell_type": "code",
   "execution_count": null,
   "metadata": {},
   "outputs": [],
   "source": [
    "%%python\n",
    "\n",
    "# Python program to demonstrate protected members\n",
    "\n",
    "# Creating a base class\n",
    "class Base:\n",
    "\tdef __init__(self):\n",
    "\t\t# Protected member\n",
    "\t\tself._a = 2\n",
    "\n",
    "# Creating a derived class\n",
    "class Derived(Base):\n",
    "\tdef __init__(self):\n",
    "\t\t# Calling constructor of\n",
    "\t\t# Base class\n",
    "\t\tBase.__init__(self)\n",
    "\t\tprint(\"Calling protected member of base class: \", self._a)\n",
    "\t\t# Modify the protected variable:\n",
    "\t\tself._a = 3\n",
    "\t\tprint(\"Calling modified protected member outside class: \", self._a)\n",
    "\n",
    "obj1 = Derived()\n",
    "obj2 = Base()\n",
    "\n",
    "# Calling protected member\n",
    "# Can be accessed but should not be done due to convention\n",
    "print(\"Accessing protected member of obj1: \", obj1._a)\n",
    "\n",
    "# Accessing the protected variable outside\n",
    "print(\"Accessing protected member of obj2: \", obj2._a)"
   ]
  },
  {
   "cell_type": "markdown",
   "metadata": {},
   "source": [
    "Notice that the protected members of a module are not automatically imported using the keyword `import`. \n",
    "They should be explicitly imported.\n",
    "\n",
    "## Private members\n",
    "\n",
    "Private members are similar to protected members.\n",
    "The difference is that the class members declared private should neither be accessed outside the class nor by any base class. \n",
    "In Python, there is no existence of Private instance variables that cannot be accessed except inside a class.\n",
    "\n",
    "However, to define a private member prefix the member name with double underscore “__”."
   ]
  },
  {
   "cell_type": "code",
   "execution_count": null,
   "metadata": {},
   "outputs": [],
   "source": [
    "%%python\n",
    "# Python program to demonstrate private members\n",
    "\n",
    "# Creating a Base class\n",
    "class Base:\n",
    "\tdef __init__(self):\n",
    "\t\tself.a = \"GeeksforGeeks\"\n",
    "\t\tself.__c = \"GeeksforGeeks\"\n",
    "\n",
    "# Creating a derived class\n",
    "class Derived(Base):\n",
    "\tdef __init__(self):\n",
    "\t\tBase.__init__(self)\n",
    "\t\tprint(\"Calling private member of base class: \", self.__c)\n",
    "\n",
    "obj1 = Base()\n",
    "print(obj1.a)\n",
    "\n",
    "# Uncommenting the following will raise an AttributeError\n",
    "#print(obj1.__c)\n",
    "\n",
    "# Uncommenting the following will also raise an AtrributeError as\n",
    "# private member of base class is called inside derived class\n",
    "#obj2 = Derived()"
   ]
  },
  {
   "cell_type": "markdown",
   "metadata": {},
   "source": [
    "# Polymorphism in Python\n",
    "\n",
    "The word polymorphism means having many forms. \n",
    "In programming and with functions, polymorphism means the same function name (but different signatures) being used for different types. \n",
    "The key difference is the data types and number of arguments used in function.\n",
    "\n",
    "## Examples\n",
    "### Example of inbuilt polymorphic functions:"
   ]
  },
  {
   "cell_type": "code",
   "execution_count": null,
   "metadata": {},
   "outputs": [],
   "source": [
    "%%python\n",
    "# Python program to demonstrate in-built polymorphic functions\n",
    "\n",
    "# len() being used for a string\n",
    "print(len(\"geeks\"))\n",
    "\n",
    "# len() being used for a list\n",
    "print(len([10, 20, 30]))"
   ]
  },
  {
   "cell_type": "markdown",
   "metadata": {},
   "source": [
    "### Example of user-defined polymorphic functions: "
   ]
  },
  {
   "cell_type": "code",
   "execution_count": null,
   "metadata": {},
   "outputs": [],
   "source": [
    "# A simple Python function to demonstrate Polymorphism\n",
    "\n",
    "def add(x, y, z = 0):\n",
    "\treturn x + y+z\n",
    "\n",
    "print(add(2, 3))\n",
    "print(add(2, 3, 4))"
   ]
  },
  {
   "cell_type": "markdown",
   "metadata": {},
   "source": [
    "## Polymorphism with class methods\n",
    "\n",
    "Polymorphism with OOP means that a class can be used like another one, so being *polymorphic*. \n",
    "This is possible for instance for the class B that inherits from the class A: an instance B can be used as an instance of A (but not the reverse!).\n",
    "\n",
    "The below code shows how Python can use two different class types, even without inheritance. \n",
    "We create a for loop that iterates through a tuple of objects. \n",
    "Then call the methods without being concerned about which class type each object is. We assume that these methods actually exist in each class. "
   ]
  },
  {
   "cell_type": "code",
   "execution_count": null,
   "metadata": {},
   "outputs": [],
   "source": [
    "%%python\n",
    "class India():\n",
    "\tdef name(self):\n",
    "\t\treturn \"India\"\n",
    "\t\n",
    "\tdef capital(self):\n",
    "\t\treturn \"New Delhi\"\n",
    "\n",
    "\tdef language(self):\n",
    "\t\treturn \"Hindi\"\n",
    "\n",
    "\tdef type(self):\n",
    "\t\treturn \"developing country\"\n",
    "\n",
    "class USA():\n",
    "\tdef name(self):\n",
    "\t\treturn \"USA\"\n",
    "\t\n",
    "\tdef capital(self):\n",
    "\t\treturn \"Washington, D.C.\"\n",
    "\n",
    "\tdef language(self):\n",
    "\t\treturn \"English\"\n",
    "\n",
    "\tdef type(self):\n",
    "\t\treturn \"developed country\"\n",
    "\n",
    "countries = [India(), USA()]\n",
    "for country in countries:\n",
    "\tprint(f\"Some data about {country.name()}:\")\n",
    "\tprint(f\"\\t- Its capital is {country.capital()}.\")\n",
    "\tprint(f\"\\t- It has {country.language()} as main language.\")\n",
    "\tprint(f\"\\t- It is a {country.type()}.\")"
   ]
  },
  {
   "cell_type": "markdown",
   "metadata": {},
   "source": [
    "## Polymorphism with Inheritance\n",
    "\n",
    "In Python, Polymorphism lets us define methods in the child class that have the same name as the methods in the parent class. \n",
    "In inheritance, the child class inherits the methods from the parent class. \n",
    "However, it is possible to modify a method in a child class that it has inherited from the parent class. \n",
    "This is particularly useful in cases where the method inherited from the parent class doesn’t quite fit the child class. \n",
    "In such cases, we re-implement the method in the child class. \n",
    "\n",
    "This process of re-implementing a method in the child class is known as **Method Overriding**.  "
   ]
  },
  {
   "cell_type": "code",
   "execution_count": null,
   "metadata": {},
   "outputs": [],
   "source": [
    "%%python\n",
    "class Bird:\n",
    "    def intro(self):\n",
    "        print(\"There are many types of birds.\")\n",
    "\t\n",
    "    def flight(self):\n",
    "\t    print(\"Most of the birds can fly but some cannot.\")\n",
    "\n",
    "class Sparrow(Bird):\n",
    "    def flight(self):\n",
    "\t    print(\"Sparrows can fly.\")\n",
    "\t\n",
    "class Ostrich(Bird):\n",
    "    def flight(self):\n",
    "\t    print(\"Ostriches cannot fly.\")\n",
    "\t\n",
    "obj_bird = Bird()\n",
    "obj_spr = Sparrow()\n",
    "obj_ost = Ostrich()\n",
    "\n",
    "obj_bird.intro()\n",
    "obj_bird.flight()\n",
    "\n",
    "obj_spr.intro()\n",
    "obj_spr.flight()\n",
    "\n",
    "obj_ost.intro()\n",
    "obj_ost.flight()"
   ]
  },
  {
   "cell_type": "markdown",
   "metadata": {},
   "source": [
    "We will see later that this example has some drawbacks (`Bird` should be an abstraction), but for now it allows to show the most important thing: The polymorphism occurs by handling the `Sparrow` instance and `Ostrich` instance as birds..."
   ]
  },
  {
   "cell_type": "markdown",
   "metadata": {},
   "source": [
    "## Static and class methods\n",
    "\n",
    "Python allows annotations to add some semantic to functions, like the `@property` annotation you have seen during week 1. With classes, you have two very usefull annotations allowing to define:\n",
    "- class methods,\n",
    "- and static methods. \n",
    "\n",
    "### Class methods\n",
    "A class method is a method that somehow involves the class, and not any instance. \n",
    "The main purpose is to implement the **factory pattern**, but some other usages exist. \n",
    "A class method is made using the annotation `@classmethod`.\n",
    "Let us see an example:"
   ]
  },
  {
   "cell_type": "code",
   "execution_count": null,
   "metadata": {},
   "outputs": [
    {
     "name": "stdout",
     "output_type": "stream",
     "text": [
      "weight is 1.0 kg or 2.205 pounds\n",
      "weight is 0.4535147392290249 kg or 1.0 pounds\n"
     ]
    }
   ],
   "source": [
    "%%python\n",
    "# example with two factory methods\n",
    "class Weight:\n",
    "    \n",
    "    def __init__(self, weight):\n",
    "        self.__weight = weight\n",
    "    \n",
    "    @classmethod\n",
    "    def create_from_kilogram(cls, weight):\n",
    "        return cls(weight)\n",
    "    \n",
    "    @classmethod\n",
    "    def create_from_pounds(cls, weight):\n",
    "        return cls(weight/2.205)\n",
    "    \n",
    "    def get_weight_in_kg(self):\n",
    "        return self.__weight\n",
    "    \n",
    "    def get_weight_in_pounds(self):\n",
    "        return self.__weight * 2.205\n",
    "\n",
    "# example of use\n",
    "weights = [\n",
    "    Weight.create_from_kilogram(1.0), \n",
    "    Weight.create_from_pounds(1.0)\n",
    "]\n",
    "for weight in weights:\n",
    "    print(f\"weight is {weight.get_weight_in_kg()} kg \"\n",
    "        + f\"or {weight.get_weight_in_pounds()} pounds\")"
   ]
  },
  {
   "cell_type": "markdown",
   "metadata": {},
   "source": [
    "The most important thing to retain from this example is that a class method receive as first parameter the **class** from which it was called, instead of an instance like from instance method. Then it can operate onto the class itself, to create an instance for instance like in the upper example. Another usage is to access to a class member, that can be private then... \n",
    "\n",
    "### Static methods\n",
    "A static method resembles to a class method but is actually very different, and then should not be mixed with.\n",
    "The first and principal difference is that a static method does not receive neither the instance nor the class as first parameter. If it needs some parameter, obviously it can receive it but this is not mandatory (so, it can accept zero parameter). \n",
    "\n",
    "A direct consequence is that a static method cannot act onto any instance nor onto the class... But a static method is bound to the class!\n",
    "\n",
    "So why using a static method? Generally it serves to build a utility method (or *helper method*) that can be used to factorize some piece of code. Starting from the previous example, we can use static methods to move from the two units as below.  "
   ]
  },
  {
   "cell_type": "code",
   "execution_count": null,
   "metadata": {},
   "outputs": [
    {
     "name": "stdout",
     "output_type": "stream",
     "text": [
      "weight is 1.0 kg or 2.205 pounds\n",
      "weight is 0.4535147392290249 kg or 1.0 pounds\n"
     ]
    }
   ],
   "source": [
    "%%python\n",
    "# example with two factory methods\n",
    "class Weight:\n",
    "\n",
    "    def __init__(self, weight):\n",
    "        self.__weight = weight\n",
    "    \n",
    "    @classmethod\n",
    "    def create_from_kilogram(cls, weight):\n",
    "        return cls(weight)\n",
    "    \n",
    "    @classmethod\n",
    "    def create_from_pounds(cls, weight):\n",
    "        return cls(Weight._pounds_to_kg(weight))\n",
    "    \n",
    "    def get_weight_in_kg(self):\n",
    "        return self.__weight\n",
    "    \n",
    "    def get_weight_in_pounds(self):\n",
    "        return Weight._kg_to_pound(self.__weight)\n",
    "    \n",
    "    @staticmethod\n",
    "    def _kg_to_pound(kg):\n",
    "        return kg * 2.205\n",
    "    \n",
    "    @staticmethod\n",
    "    def _pounds_to_kg(pound):\n",
    "        return pound / 2.205\n",
    "\n",
    "# example of use\n",
    "weights = [\n",
    "    Weight.create_from_kilogram(1.0), \n",
    "    Weight.create_from_pounds(1.0)\n",
    "]\n",
    "for weight in weights:\n",
    "    print(f\"weight is {weight.get_weight_in_kg()} kg \"\n",
    "        + f\"or {weight.get_weight_in_pounds()} pounds\")"
   ]
  },
  {
   "cell_type": "markdown",
   "metadata": {},
   "source": [
    "Of course, the static methods we have added can be made as regular functions outside any class, but since they are related to the `Weight` class it is preferable to place them into the class, which acts here as a namespace. "
   ]
  }
 ],
 "metadata": {
  "kernelspec": {
   "display_name": "Python 3.8.13 ('allenv')",
   "language": "python",
   "name": "python3"
  },
  "language_info": {
   "codemirror_mode": {
    "name": "ipython",
    "version": 3
   },
   "file_extension": ".py",
   "mimetype": "text/x-python",
   "name": "python",
   "nbconvert_exporter": "python",
   "pygments_lexer": "ipython3",
   "version": "3.8.13"
  },
  "orig_nbformat": 4,
  "vscode": {
   "interpreter": {
    "hash": "9fb21341b2262334c6746f00bb237b214a3c5c5b906cfe81d5af4498149236dd"
   }
  }
 },
 "nbformat": 4,
 "nbformat_minor": 2
}
