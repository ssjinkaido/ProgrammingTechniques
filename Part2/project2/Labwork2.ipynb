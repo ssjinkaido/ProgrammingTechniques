{
 "cells": [
  {
   "cell_type": "markdown",
   "metadata": {},
   "source": [
    "# Labwork 2\n",
    "\n",
    "Do the following list of exercises before to continue with the next lecture.\n",
    "\n",
    "In the exercises the goal is to add typing everywhere it is possible to. \n",
    "Only then using `mypy` make sense, since whithout typing `mypy` will not be able to detect errors... "
   ]
  },
  {
   "cell_type": "markdown",
   "metadata": {},
   "source": [
    "## Exercise 1\n",
    "Modify the following Python code by adding typing for parameters and return values."
   ]
  },
  {
   "cell_type": "code",
   "execution_count": 1,
   "metadata": {},
   "outputs": [
    {
     "name": "stdout",
     "output_type": "stream",
     "text": [
      "Overwriting exercise1.py\n"
     ]
    }
   ],
   "source": [
    "from typing import Union\n",
    "import numpy as np\n",
    "% % writefile exercise1.py\n",
    "\n",
    "\n",
    "def power(x: float, y: int) -> float:\n",
    "    result = 1.0\n",
    "    while True:\n",
    "        t = y % 2\n",
    "        y = int(np.floor(y / 2))\n",
    "        if t == 1:\n",
    "            result = result * x\n",
    "        if y == 0:\n",
    "            break\n",
    "        x = x * x\n",
    "    return result\n",
    "\n",
    "\n",
    "print(f\"power(2,10) = {power(2, 10)}\")\n",
    "print(f\"power(2.0,10) = {power(2.0, 10)}\")\n"
   ]
  },
  {
   "cell_type": "code",
   "execution_count": 2,
   "metadata": {},
   "outputs": [
    {
     "name": "stdout",
     "output_type": "stream",
     "text": [
      "power(2,10) = 1024.0\n",
      "power(2.0,10) = 1024.0\n",
      "\u001b[1m\u001b[32mSuccess: no issues found in 1 source file\u001b[m\n"
     ]
    }
   ],
   "source": [
    "!python exercise1.py\n",
    "!mypy exercise1.py\n"
   ]
  },
  {
   "cell_type": "markdown",
   "metadata": {},
   "source": [
    "## Exercise 2\n",
    "Restart from labwork 1, exercise 2 and the `Vegetable` class. Then add all the necessary typing."
   ]
  },
  {
   "cell_type": "code",
   "execution_count": 3,
   "metadata": {},
   "outputs": [
    {
     "name": "stdout",
     "output_type": "stream",
     "text": [
      "Overwriting exercise2.py\n"
     ]
    }
   ],
   "source": [
    "% % writefile exercise2.py\n",
    "# up to you...\n",
    "# define a class named Vegetable\n",
    "\n",
    "\n",
    "class Vegetable:\n",
    "    def __init__(self, name: str = \"\") -> None:\n",
    "        self.__name = name\n",
    "\n",
    "    @property\n",
    "    def name(self) -> str:\n",
    "        return self.__name\n",
    "\n",
    "\n",
    "# then instantiate two objects,\n",
    "tomato = Vegetable(name=\"tomato\")\n",
    "lettuce = Vegetable(name=\"lettuce\")\n",
    "# and then print their name\n",
    "\n",
    "print(tomato.name)\n",
    "print(lettuce.name)\n"
   ]
  },
  {
   "cell_type": "code",
   "execution_count": 4,
   "metadata": {},
   "outputs": [
    {
     "name": "stdout",
     "output_type": "stream",
     "text": [
      "tomato\n",
      "lettuce\n",
      "\u001b[1m\u001b[32mSuccess: no issues found in 1 source file\u001b[m\n"
     ]
    }
   ],
   "source": [
    "!python exercise2.py\n",
    "!mypy exercise2.py\n"
   ]
  },
  {
   "cell_type": "markdown",
   "metadata": {},
   "source": [
    "## Exercise 3\n",
    "In this exercise, you will play with a linked list implementation taken from [https://realpython.com/linked-lists-python/](https://realpython.com/linked-lists-python/). \n",
    "\n",
    "The objective is obviously to add typing onto each parameters and returned value... "
   ]
  },
  {
   "cell_type": "code",
   "execution_count": 23,
   "metadata": {},
   "outputs": [
    {
     "name": "stdout",
     "output_type": "stream",
     "text": [
      "Overwriting exercise3.py\n"
     ]
    }
   ],
   "source": [
    "from __future__ import annotations\n",
    "from typing import List, TypeVar, Optional, Union, Iterator, Iterable, Generic\n",
    "% % writefile exercise3.py\n",
    "\n",
    "\n",
    "class LinkedList(Iterable):\n",
    "\n",
    "    __T = TypeVar(\"__T\")\n",
    "\n",
    "    class __Node(Generic[__T]):\n",
    "        # the optional part can also be written as: None|LinkedList.__Node\n",
    "        def __init__(self, data: LinkedList.__T, next: Optional[LinkedList.__Node] = None) -> None:\n",
    "            self.__data = data\n",
    "            self.__next = next\n",
    "\n",
    "        @property\n",
    "        def data(self) -> LinkedList.__T:\n",
    "            return self.__data\n",
    "\n",
    "        @property\n",
    "        def next(self) -> LinkedList.__Node | None:\n",
    "            return self.__next\n",
    "\n",
    "        @next.setter\n",
    "        def next(self, _next):\n",
    "            self.__next = _next\n",
    "\n",
    "        def __repr__(self) -> str:\n",
    "            return repr(self.data)\n",
    "\n",
    "    def __init__(self, nodes: Optional[List[LinkedList.__T]] = None) -> None:\n",
    "        self.__head = None\n",
    "        if nodes:\n",
    "            node = self.__Node(data=nodes.pop(0))\n",
    "            self.__head = node\n",
    "            for elem in nodes:\n",
    "                node.next = self.__Node(elem)\n",
    "                node = node.next\n",
    "\n",
    "    def __repr__(self) -> str:\n",
    "        node = self.__head\n",
    "        nodes = []\n",
    "        while node:\n",
    "            nodes.append(node.data)\n",
    "            node = node.next\n",
    "        # nodes.append(\"None\")\n",
    "        print_str = \" -> \".join(str(i) for i in nodes) + \" -> \" + \"None\"\n",
    "        return print_str\n",
    "\n",
    "    def __iter__(self) -> Iterator[LinkedList.__Node]:\n",
    "        node = self.__head\n",
    "        while node:\n",
    "            yield node\n",
    "            node = node.next\n",
    "\n",
    "    def is_empty(self) -> bool:\n",
    "        return self.__head is None\n",
    "\n",
    "    def add_first(self, data: LinkedList.__T) -> LinkedList:\n",
    "        self.__head = self.__Node(data, self.__head)\n",
    "        return self\n",
    "\n",
    "    def add_last(self, data: LinkedList.__T) -> LinkedList:\n",
    "        if self.__head is None:\n",
    "            return self.add_first(data)\n",
    "\n",
    "        current_node = self.__head\n",
    "        if current_node:\n",
    "            while current_node.next:\n",
    "                current_node = current_node.next\n",
    "            current_node.next = self.__Node(data)\n",
    "\n",
    "        return self\n",
    "\n",
    "    def add_before(self, target_node_data: LinkedList.__T, new_node_data: LinkedList.__T) -> LinkedList:\n",
    "        if self.is_empty():\n",
    "            raise Exception(\"List is empty\")\n",
    "\n",
    "        if self.__head:\n",
    "            if self.__head.data == target_node_data:\n",
    "                return self.add_first(new_node_data)\n",
    "\n",
    "        prev_node = self.__head\n",
    "        for node in self:\n",
    "            if node.data == target_node_data:\n",
    "                if prev_node:\n",
    "                    prev_node.next = self.__Node(new_node_data, node)\n",
    "                    return self\n",
    "            prev_node = node\n",
    "\n",
    "        raise Exception(f\"Node with data {target_node_data} not found\")\n",
    "\n",
    "    def add_after(self, target_node_data: LinkedList.__T, new_node_data: LinkedList.__T) -> LinkedList:\n",
    "        if self.is_empty():\n",
    "            raise Exception(\"List is empty\")\n",
    "\n",
    "        for node in self:\n",
    "            if node.data == target_node_data:\n",
    "                node.next = self.__Node(new_node_data, node.next)\n",
    "                return self\n",
    "\n",
    "        raise Exception(f\"Node with data {target_node_data} not found\")\n",
    "\n",
    "    def remove_node(self, target_node_data: LinkedList.__T) -> LinkedList:\n",
    "        if self.is_empty():\n",
    "            raise Exception(\"List is empty\")\n",
    "\n",
    "        if self.__head:\n",
    "            if self.__head.data == target_node_data:\n",
    "                self.head = self.__head.next\n",
    "            return self\n",
    "\n",
    "        previous_node = self.__head\n",
    "        for node in self:\n",
    "            if node.data == target_node_data:\n",
    "                if previous_node:\n",
    "                    previous_node.next = node.next\n",
    "                    return self\n",
    "            previous_node = node\n",
    "\n",
    "        raise Exception(f\"Node with data {target_node_data} not found\")\n",
    "\n",
    "\n",
    "if __name__ == \"__main__\":\n",
    "    def build_list() -> LinkedList:\n",
    "        lklist = LinkedList([\"b\", \"d\", \"f\"])\n",
    "        lklist.add_first(\"a\")\n",
    "        lklist.add_last(\"g\")\n",
    "        lklist.add_before(\"d\", \"c\")\n",
    "        lklist.add_after(\"d\", \"e\")\n",
    "        return lklist\n",
    "\n",
    "    def remove_one_over_two(lklist: LinkedList):\n",
    "        lklist.remove_node(\"a\")\n",
    "        lklist.remove_node(\"c\")\n",
    "        lklist.remove_node(\"e\")\n",
    "        lklist.remove_node(\"g\")\n",
    "\n",
    "    lklist = build_list()\n",
    "    print(lklist)\n",
    "    remove_one_over_two(lklist)\n",
    "    print(lklist)\n"
   ]
  },
  {
   "cell_type": "code",
   "execution_count": 24,
   "metadata": {},
   "outputs": [
    {
     "name": "stdout",
     "output_type": "stream",
     "text": [
      "a -> b -> c -> d -> e -> f -> g -> None\n",
      "a -> b -> c -> d -> e -> f -> g -> None\n",
      "\u001b[1m\u001b[32mSuccess: no issues found in 1 source file\u001b[m\n"
     ]
    }
   ],
   "source": [
    "!python exercise3.py\n",
    "!mypy exercise3.py\n"
   ]
  },
  {
   "cell_type": "markdown",
   "metadata": {},
   "source": [
    "## Exercise 4\n",
    "This exercise restarts from the exercise 4, labwork 1. \n",
    "Copy and paste your solution below, and add all the necessary typing... "
   ]
  },
  {
   "cell_type": "code",
   "execution_count": 38,
   "metadata": {},
   "outputs": [
    {
     "name": "stdout",
     "output_type": "stream",
     "text": [
      "Overwriting exercise4.py\n"
     ]
    }
   ],
   "source": [
    "%%writefile exercise4.py\n",
    "from __future__ import annotations\n",
    "from enum import Enum\n",
    "\n",
    "\n",
    "class Vehicle:\n",
    "    \"\"\"Represents a vehicle with or without engine\"\"\"\n",
    "\n",
    "    def __init__(self: Vehicle, max_person_capacity: int = 0, max_speed: float = 0):\n",
    "        \"\"\"Constructor of Vehicle class\"\"\"\n",
    "        self.__max_person_capacity = max_person_capacity\n",
    "        self.__max_speed = max_speed\n",
    "\n",
    "    @property\n",
    "    def max_person_capacity(self: Vehicle) -> int:\n",
    "        \"\"\"Getter of the maximum person capacity of a Vehicle instance\"\"\"\n",
    "        return self.__max_person_capacity\n",
    "\n",
    "    @property\n",
    "    def max_speed(self: Vehicle) -> float:\n",
    "        \"\"\"Getter of the maximum speed of a Vehicle instance\"\"\"\n",
    "        return self.__max_speed\n",
    "\n",
    "\n",
    "class Engine:\n",
    "    \"\"\"Represents an engine\"\"\"\n",
    "\n",
    "    Fuel = Enum(\n",
    "        \"Fuel\", [\"diesel\", \"gasoline\", \"kerosene\", \"coal\", \"electricity\", \"solar\"]\n",
    "    )\n",
    "    \"\"\"Enumeration of different Fuels\"\"\"\n",
    "\n",
    "    def __init__(self: Engine, fuel: Engine.Fuel, consumption: float) -> None:\n",
    "        \"\"\"Constructor of an Engine\"\"\"\n",
    "        self.__fuel = fuel\n",
    "        self.__consumption = consumption\n",
    "\n",
    "    @property\n",
    "    def fuel(self: Engine) -> Engine.Fuel:\n",
    "        \"\"\"Getter of the Fuel of this Engine instance\"\"\"\n",
    "        return self.__fuel\n",
    "\n",
    "    @property\n",
    "    def average_consumption(self: Engine) -> float:\n",
    "        \"\"\"Returns the average consumption of this Engine instance\"\"\"\n",
    "        return self.__consumption\n",
    "\n",
    "    @staticmethod\n",
    "    def having_engine(obj: object):\n",
    "        \"\"\"Predicate that returns if an object instance is an engine or not\"\"\"\n",
    "        return isinstance(obj, Engine)\n",
    "\n",
    "\n",
    "class Bicycle(Vehicle):\n",
    "    \"\"\"Represents a Bicycle, a vehicle for one person with no engine\"\"\"\n",
    "\n",
    "    def __init__(self: Bicycle, max_speed: float = 99):\n",
    "        Vehicle.__init__(self, 1, max_speed)\n",
    "\n",
    "\n",
    "class Donkey(Vehicle):\n",
    "    \"\"\"Represents a Donkey, a vehicle for one person with no engine\"\"\"\n",
    "\n",
    "    def __init__(self: Donkey, max_speed: float = 21):\n",
    "        Vehicle.__init__(self, 1, max_speed)\n",
    "\n",
    "\n",
    "class Car(Vehicle, Engine):\n",
    "    \"\"\"Represents a Car, a vehicle made to transport some people with an engine\"\"\"\n",
    "\n",
    "    def __init__(\n",
    "        self: Car,\n",
    "        max_person_capacity: int = 5,\n",
    "        max_speed: float = 250,\n",
    "        fuel: Engine.Fuel = Engine.Fuel.diesel,\n",
    "        consumption: float = 6,\n",
    "    ):\n",
    "        Vehicle.__init__(self, max_person_capacity, max_speed)\n",
    "        Engine.__init__(self, fuel, consumption)\n",
    "\n",
    "\n",
    "class Boat(Vehicle, Engine):\n",
    "    \"\"\"\n",
    "    Represents a Boat, a vehicle made to transport some people with an engine\n",
    "    \"\"\"\n",
    "\n",
    "    def __init__(\n",
    "        self: Boat,\n",
    "        max_person_capacity: int = 5,\n",
    "        max_speed: float = 40,\n",
    "        fuel: Engine.Fuel = Engine.Fuel.diesel,\n",
    "        consumption: float = 50,\n",
    "    ):\n",
    "        Vehicle.__init__(self, max_person_capacity, max_speed)\n",
    "        Engine.__init__(self, fuel, consumption)\n",
    "\n",
    "\n",
    "class Airplane(Vehicle, Engine):\n",
    "    \"\"\"\n",
    "    Represents an Airplane, a vehicle made to transport many people\n",
    "    with an engine\n",
    "    \"\"\"\n",
    "\n",
    "    def __init__(\n",
    "        self: Airplane,\n",
    "        max_person_capacity: int = 300,\n",
    "        max_speed: float = 1000,\n",
    "        consumption: float = 100,\n",
    "    ):\n",
    "        Vehicle.__init__(self, max_person_capacity, max_speed)\n",
    "        Engine.__init__(self, Engine.Fuel.kerosene, consumption)\n",
    "\n",
    "\n",
    "if __name__ == \"__main__\":\n",
    "\n",
    "    def miles_to_km(miles):\n",
    "        \"\"\"Transforms a distance in miles to a distance in kilometers\"\"\"\n",
    "        return 1.852 * miles\n",
    "\n",
    "    vehicles = [\n",
    "        Bicycle(),\n",
    "        Car(4, 180),\n",
    "        Car(),\n",
    "        Boat(12, miles_to_km(12)),\n",
    "        Boat(4, miles_to_km(25)),\n",
    "        Airplane(),\n",
    "        Airplane(2, 3000),\n",
    "    ]\n",
    "\n",
    "    for vehicle in vehicles:\n",
    "\n",
    "        def printEngine(obj):\n",
    "            if Engine.having_engine(obj):\n",
    "                return (\n",
    "                    f\"with an Engine using {obj.fuel.name} with \"\n",
    "                    + f\"average consumption about {obj.average_consumption}\"\n",
    "                )\n",
    "            return \"without an Engine\"\n",
    "\n",
    "        print(f\"A {vehicle.__class__.__name__}:\")\n",
    "        print(f\"- {printEngine(vehicle)}\")\n",
    "        print(\n",
    "            f\"- that can transport up to \" + f\"{vehicle.max_person_capacity} person(s)\"\n",
    "        )\n",
    "        print(f\"- with maximum speed {vehicle.max_speed}\")\n"
   ]
  },
  {
   "cell_type": "code",
   "execution_count": 39,
   "metadata": {},
   "outputs": [
    {
     "name": "stdout",
     "output_type": "stream",
     "text": [
      "A Bicycle:\n",
      "- without an Engine\n",
      "- that can transport up to 1 person(s)\n",
      "- with maximum speed 99\n",
      "A Car:\n",
      "- with an Engine using diesel with average consumption about 6\n",
      "- that can transport up to 4 person(s)\n",
      "- with maximum speed 180\n",
      "A Car:\n",
      "- with an Engine using diesel with average consumption about 6\n",
      "- that can transport up to 5 person(s)\n",
      "- with maximum speed 250\n",
      "A Boat:\n",
      "- with an Engine using diesel with average consumption about 50\n",
      "- that can transport up to 12 person(s)\n",
      "- with maximum speed 22.224\n",
      "A Boat:\n",
      "- with an Engine using diesel with average consumption about 50\n",
      "- that can transport up to 4 person(s)\n",
      "- with maximum speed 46.300000000000004\n",
      "A Airplane:\n",
      "- with an Engine using kerosene with average consumption about 100\n",
      "- that can transport up to 300 person(s)\n",
      "- with maximum speed 1000\n",
      "A Airplane:\n",
      "- with an Engine using kerosene with average consumption about 100\n",
      "- that can transport up to 2 person(s)\n",
      "- with maximum speed 3000\n",
      "\u001b[1m\u001b[32mSuccess: no issues found in 1 source file\u001b[m\n"
     ]
    }
   ],
   "source": [
    "!python exercise4.py\n",
    "!mypy exercise4.py\n"
   ]
  }
 ],
 "metadata": {
  "kernelspec": {
   "display_name": "Python 3.8.13 ('allenv')",
   "language": "python",
   "name": "python3"
  },
  "language_info": {
   "codemirror_mode": {
    "name": "ipython",
    "version": 3
   },
   "file_extension": ".py",
   "mimetype": "text/x-python",
   "name": "python",
   "nbconvert_exporter": "python",
   "pygments_lexer": "ipython3",
   "version": "3.8.13"
  },
  "orig_nbformat": 4,
  "vscode": {
   "interpreter": {
    "hash": "9fb21341b2262334c6746f00bb237b214a3c5c5b906cfe81d5af4498149236dd"
   }
  }
 },
 "nbformat": 4,
 "nbformat_minor": 2
}
