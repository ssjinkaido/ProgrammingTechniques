{
 "cells": [
  {
   "cell_type": "markdown",
   "metadata": {},
   "source": [
    "# Labwork 4\n",
    "This labwork should be done after reading the lecture 4. \n",
    "\n",
    "In the different exercises, you have to write or rewrite some code applying the different principles: SOLID, DRY, KISS..."
   ]
  },
  {
   "cell_type": "markdown",
   "metadata": {},
   "source": [
    "## Exercise 1\n",
    "The following code does not respect SOLID principles. \n",
    "Modify it such that SRP is respected!"
   ]
  },
  {
   "cell_type": "code",
   "execution_count": 31,
   "metadata": {},
   "outputs": [
    {
     "name": "stdout",
     "output_type": "stream",
     "text": [
      "Overwriting labwork4/exercise1.py\n"
     ]
    }
   ],
   "source": [
    "%%writefile labwork4/exercise1.py\n",
    "from __future__ import annotations\n",
    "class Address:\n",
    "    def __init__(self, city: str, zip_code:int):\n",
    "        self.__city = city\n",
    "        self.__zip_code = zip_code\n",
    "\n",
    "    @property\n",
    "    def city(self) -> str:\n",
    "        return self.__city\n",
    "\n",
    "    @city.setter\n",
    "    def city(self, value:str) -> None:\n",
    "        self.__city = value\n",
    "    \n",
    "    @property\n",
    "    def zip_code(self) -> int:\n",
    "        return self.__zip_code\n",
    "\n",
    "    @zip_code.setter\n",
    "    def zip_code(self, value:int) -> None:\n",
    "        self.__zip_code = value\n",
    "\n",
    "    def change_address(self, city:str, zip_code: int) -> None:\n",
    "        self.__city = city\n",
    "        self.__zip_code = zip_code\n",
    "        \n",
    "class CoffeeShop:\n",
    "    def __init__(self, name: str, address: Address):\n",
    "        self.__name = name\n",
    "        self.__address = address\n",
    "\n",
    "    @property\n",
    "    def name(self) -> str:\n",
    "        return self.__name\n",
    "\n",
    "    @name.setter\n",
    "    def name(self, value: str) -> None:\n",
    "        self.__name = value\n",
    "    \n",
    "    @property\n",
    "    def address(self) -> Address:\n",
    "        return self.__address\n",
    "\n",
    "    @address.setter(self, address: Address)-> None:\n",
    "        self.__address = address\n",
    "    \n",
    "if __name__ == '__main__':\n",
    "    cs = CoffeeShop('La Viet', Address('Ha Noi', 111000))\n",
    "    print(f'CoffeeShop name is \"{cs.name}\"')\n",
    "    print(f'CoffeeShop is in \"{cs.address.city}\"')\n",
    "    print(f'CoffeeShop zip code is {cs.address.zip_code}')\n",
    "    cs.address = Address('Neuville de Poitou', 86170)\n",
    "    cs.address.change_address('Neuville de Poitou', 86170)\n",
    "    print(f'CoffeeShop name is \"{cs.name}\"')\n",
    "    print(f'CoffeeShop is in \"{cs.address.city}\"')\n",
    "    print(f'CoffeeShop zip code is {cs.address.zip_code}')"
   ]
  },
  {
   "cell_type": "code",
   "execution_count": 32,
   "metadata": {},
   "outputs": [
    {
     "name": "stdout",
     "output_type": "stream",
     "text": [
      "\u001b[1m\u001b[32mSuccess: no issues found in 1 source file\u001b[m\n",
      "CoffeeShop name is \"La Viet\"\n",
      "CoffeeShop is in \"Ha Noi\"\n",
      "CoffeeShop zip code is 111000\n",
      "CoffeeShop name is \"La Viet\"\n",
      "CoffeeShop is in \"Neuville de Poitou\"\n",
      "CoffeeShop zip code is 86170\n"
     ]
    }
   ],
   "source": [
    "!cd labwork4 && mypy exercise1.py\n",
    "!cd labwork4 && python exercise1.py"
   ]
  },
  {
   "cell_type": "markdown",
   "metadata": {},
   "source": [
    "## Exercise 2\n",
    "This exercise focusses onto the `O` of SOLID: Open/close principle.\n",
    "The following code does not respect this principle...\n",
    "Modify it such that it follows it!"
   ]
  },
  {
   "cell_type": "code",
   "execution_count": 41,
   "metadata": {},
   "outputs": [
    {
     "name": "stdout",
     "output_type": "stream",
     "text": [
      "Overwriting labwork4/exercise2.py\n"
     ]
    }
   ],
   "source": [
    "%%writefile labwork4/exercise2.py\n",
    "from abc import ABC, abstractmethod\n",
    "class Company(ABC):\n",
    "    def __init__(self, name: str) -> None:\n",
    "        self.__name = name\n",
    "\n",
    "    @property\n",
    "    def name(self) -> str:\n",
    "        return self.__name\n",
    "\n",
    "    @abstractmethod\n",
    "    def get_invoice(self) -> str:\n",
    "        pass\n",
    "    \n",
    "class CompanyA(Company):\n",
    "    \n",
    "    def get_invoice(self) -> str:\n",
    "        invoice = \"some format of invoice for A company\"\n",
    "        return invoice\n",
    "\n",
    "\n",
    "class CompanyB(Company):\n",
    "    def get_invoice(self) -> str:\n",
    "        invoice = \"some format of invoice for B company\"\n",
    "        return invoice\n",
    "\n",
    "\n",
    "class CompanyC(Company):\n",
    "    def get_invoice(self) -> str:\n",
    "        invoice = \"some format of invoice for C company\"\n",
    "        return invoice\n",
    "\n",
    "\n",
    "class CompanyD(Company):\n",
    "    def get_invoice(self) -> str:\n",
    "        invoice = \"error\"\n",
    "        return invoice\n",
    "\n",
    "class InvoiceService:\n",
    "    @staticmethod\n",
    "    def generate_invoice(company: Company) -> str:\n",
    "        return company.get_invoice()\n",
    "\n",
    "if __name__ == \"__main__\":\n",
    "    print(InvoiceService.generate_invoice(CompanyA('A')))\n",
    "    print(InvoiceService.generate_invoice(CompanyB('B')))\n",
    "    print(InvoiceService.generate_invoice(CompanyC('C')))\n",
    "    print(InvoiceService.generate_invoice(CompanyD('D')))"
   ]
  },
  {
   "cell_type": "code",
   "execution_count": 42,
   "metadata": {},
   "outputs": [
    {
     "name": "stdout",
     "output_type": "stream",
     "text": [
      "\u001b[1m\u001b[32mSuccess: no issues found in 1 source file\u001b[m\n",
      "some format of invoice for A company\n",
      "some format of invoice for B company\n",
      "some format of invoice for C company\n",
      "error\n"
     ]
    }
   ],
   "source": [
    "!cd labwork4 && mypy exercise2.py\n",
    "!cd labwork4 && python exercise2.py"
   ]
  },
  {
   "cell_type": "markdown",
   "metadata": {},
   "source": [
    "## Exercise 3\n",
    "Let us continues with the SOLID principles.\n",
    "This exercise focusses onto the Liskov substitution principle.\n",
    "\n",
    "Modify the following code to follow LSP."
   ]
  },
  {
   "cell_type": "code",
   "execution_count": 37,
   "metadata": {},
   "outputs": [
    {
     "name": "stdout",
     "output_type": "stream",
     "text": [
      "Overwriting labwork4/exercise3.py\n"
     ]
    }
   ],
   "source": [
    "%%writefile labwork4/exercise3.py\n",
    "from abc import abstractmethod\n",
    "class CoffeeShop:\n",
    "    def __init__(self, name: str):\n",
    "        self.__name = name\n",
    "\n",
    "    @property\n",
    "    def name(self):\n",
    "        return self.__name\n",
    "\n",
    "    @abstractmethod\n",
    "    def takeaway(self) -> str:\n",
    "        pass\n",
    "    \n",
    "class A(CoffeeShop):\n",
    "    def takeaway(self) -> str:\n",
    "        return \"Delivery at most 30 minutes\"\n",
    "\n",
    "\n",
    "class B(CoffeeShop):\n",
    "    def takeaway(self) -> str:\n",
    "        raise Exception('We do not have takeaway service')\n",
    "\n",
    "def call_takeaway(coffee_shop: CoffeeShop):\n",
    "    return coffee_shop.takeaway()\n",
    "\n",
    "\n",
    "if __name__ == \"__main__\":\n",
    "    a = A('A')\n",
    "    b = B('B')\n",
    "    print(call_takeaway(a))\n",
    "    print(call_takeaway(b))\n",
    "    print(f'CoffeeShop {a.name}: {a.takeaway()}')\n",
    "    print(f'CoffeeShop {b.name}: {b.takeaway()}')\n"
   ]
  },
  {
   "cell_type": "code",
   "execution_count": 38,
   "metadata": {},
   "outputs": [
    {
     "name": "stdout",
     "output_type": "stream",
     "text": [
      "\u001b[1m\u001b[32mSuccess: no issues found in 1 source file\u001b[m\n",
      "Delivery at most 30 minutes\n",
      "Traceback (most recent call last):\n",
      "  File \"exercise3.py\", line 31, in <module>\n",
      "    print(call_takeaway(b))\n",
      "  File \"exercise3.py\", line 24, in call_takeaway\n",
      "    return coffee_shop.takeaway()\n",
      "  File \"exercise3.py\", line 21, in takeaway\n",
      "    raise Exception('We do not have takeaway service')\n",
      "Exception: We do not have takeaway service\n"
     ]
    }
   ],
   "source": [
    "!cd labwork4 && mypy exercise3.py\n",
    "!cd labwork4 && python exercise3.py"
   ]
  },
  {
   "cell_type": "markdown",
   "metadata": {},
   "source": [
    "## Exercise 4\n",
    "The `I` of SOLID now, for Interface Segregation Principle...\n",
    "Modify the following code to follow ISP."
   ]
  },
  {
   "cell_type": "code",
   "execution_count": 7,
   "metadata": {},
   "outputs": [],
   "source": [
    "# %%writefile labwork4/exercise4.py\n",
    "# from abc import ABC, abstractmethod\n",
    "\n",
    "\n",
    "# class ICoffeeShop(ABC):\n",
    "#     # traditional shops\n",
    "#     @abstractmethod\n",
    "#     def brew_by_espresso_machine(self):\n",
    "#         pass\n",
    "\n",
    "#     @abstractmethod\n",
    "#     def brew_machine_pour_over(self):\n",
    "#         pass\n",
    "\n",
    "#     # third wave shops\n",
    "#     @abstractmethod\n",
    "#     def brew_by_hand_held_espresso_maker(self):\n",
    "#         pass\n",
    "\n",
    "#     @abstractmethod\n",
    "#     def brew_manual_pour_over(self):\n",
    "#         pass\n",
    "\n",
    "#     # both\n",
    "#     @abstractmethod\n",
    "#     def brew_filter_coffee(self):\n",
    "#         pass\n",
    "\n",
    "\n",
    "# class Traditional(ICoffeeShop):\n",
    "#     def brew_by_espresso_machine(self):\n",
    "#         print(\"brewing by expresso machine\")\n",
    "\n",
    "#     def brew_machine_pour_over(self):\n",
    "#         print(\"brewing maching pour over\")\n",
    "\n",
    "#     def brew_filter_coffee(self):\n",
    "#         print(\"brewing filter coffee\")\n",
    "\n",
    "#     def brew_by_hand_held_espresso_maker(self):\n",
    "#         raise NotImplementedError(\"We don't brew by hand held espresso maker\")\n",
    "\n",
    "#     def brew_manual_pour_over(self):\n",
    "#         raise NotImplementedError(\"We don't brewManualPourOver\")\n",
    "\n",
    "\n",
    "# class ThirdWave(ICoffeeShop):\n",
    "#     def brew_by_hand_held_espresso_maker(self):\n",
    "#         print(\"brewing by hand held expresso maker\")\n",
    "\n",
    "#     def brew_manual_pour_over(self):\n",
    "#         print(\"brewing manual pour over\")\n",
    "\n",
    "#     def brew_filter_coffee(self):\n",
    "#         print(\"brewing filter coffee\")\n",
    "\n",
    "#     def brew_by_espresso_machine(self):\n",
    "#         raise NotImplementedError(\"We don't brew by expresso machine\")\n",
    "\n",
    "#     def brew_machine_pour_over(self):\n",
    "#         raise NotImplementedError(\"We don't brew manual pour over\")\n",
    "\n",
    "\n",
    "# if __name__ == \"__main__\":\n",
    "#     def print_all(coffee_shop: ICoffeeShop):\n",
    "#         \"\"\"Try all the methods...\"\"\"\n",
    "#         def handle_exception(func):\n",
    "#             \"\"\"Print the exception if one is raised\"\"\"\n",
    "#             try:\n",
    "#                 func()\n",
    "#             except NotImplementedError as exception:\n",
    "#                 print(f'-> {exception}')\n",
    "\n",
    "#         handle_exception(coffee_shop.brew_by_espresso_machine)\n",
    "#         handle_exception(coffee_shop.brew_machine_pour_over)\n",
    "#         handle_exception(coffee_shop.brew_by_hand_held_espresso_maker)\n",
    "#         handle_exception(coffee_shop.brew_manual_pour_over)\n",
    "#         coffee_shop.brew_filter_coffee()\n",
    "\n",
    "#     print('For a Traditional Coffee Shop...')\n",
    "#     print_all(Traditional())\n",
    "#     print('')\n",
    "#     print('For a ThirdWave Coffee Shop...')\n",
    "#     print_all(ThirdWave())\n"
   ]
  },
  {
   "cell_type": "code",
   "execution_count": 8,
   "metadata": {},
   "outputs": [
    {
     "name": "stdout",
     "output_type": "stream",
     "text": [
      "Overwriting labwork4/exercise4.py\n"
     ]
    }
   ],
   "source": [
    "%%writefile labwork4/exercise4.py\n",
    "from abc import ABC, abstractmethod\n",
    "\n",
    "\n",
    "class ICoffeeShop(ABC):\n",
    "    # traditional shops\n",
    "    @abstractmethod\n",
    "    def brew_machine_pour_over(self):\n",
    "        pass\n",
    "\n",
    "    # third wave shops\n",
    "    @abstractmethod\n",
    "    def brew_filter_coffee(self):\n",
    "        pass\n",
    "\n",
    "class ITraditional(ICoffeeShop):\n",
    "    # traditional shops\n",
    "    @abstractmethod\n",
    "    def brew_by_espresso_machine(self):\n",
    "        pass\n",
    "\n",
    "class IThirdWave(ICoffeeShop):\n",
    "    # third wave shops\n",
    "    @abstractmethod\n",
    "    def brew_by_hand_held_espresso_maker(self):\n",
    "        print(\"brewing by hand held expresso maker\")\n",
    "\n",
    "class Traditional(ITraditional):\n",
    "    def brew_by_espresso_machine(self):\n",
    "        print(\"brewing by expresso machine\")\n",
    "\n",
    "    def brew_machine_pour_over(self):\n",
    "        print(\"brewing maching pour over\")\n",
    "\n",
    "    def brew_filter_coffee(self):\n",
    "        print(\"brewing filter coffee\")\n",
    "\n",
    "class ThirdWave(IThirdWave):\n",
    "    def brew_by_hand_held_espresso_maker(self):\n",
    "        print(\"brewing by hand held expresso maker\")\n",
    "\n",
    "    def brew_manual_pour_over(self):\n",
    "        print(\"brewing manual pour over\")\n",
    "\n",
    "    def brew_filter_coffee(self):\n",
    "        print(\"brewing filter coffee\")\n",
    "\n",
    "\n",
    "if __name__ == \"__main__\":\n",
    "    def print_all(coffee_shop: ICoffeeShop):\n",
    "        \"\"\"Try all the methods...\"\"\"\n",
    "        def handle_exception(func):\n",
    "            \"\"\"Print the exception if one is raised\"\"\"\n",
    "            try:\n",
    "                func()\n",
    "            except NotImplementedError as exception:\n",
    "                print(f'-> {exception}')\n",
    "\n",
    "        handle_exception(coffee_shop.brew_by_espresso_machine)\n",
    "        handle_exception(coffee_shop.brew_machine_pour_over)\n",
    "        handle_exception(coffee_shop.brew_by_hand_held_espresso_maker)\n",
    "        handle_exception(coffee_shop.brew_manual_pour_over)\n",
    "        coffee_shop.brew_filter_coffee()\n",
    "\n",
    "    print('For a Traditional Coffee Shop...')\n",
    "    print_all(Traditional())\n",
    "    print('')\n",
    "    print('For a ThirdWave Coffee Shop...')\n",
    "    print_all(ThirdWave())\n"
   ]
  },
  {
   "cell_type": "code",
   "execution_count": 9,
   "metadata": {},
   "outputs": [
    {
     "name": "stdout",
     "output_type": "stream",
     "text": [
      "exercise4.py:58: \u001b[1m\u001b[31merror:\u001b[m \u001b[m\u001b[1m\"ICoffeeShop\"\u001b[m has no attribute \u001b[m\u001b[1m\"brew_by_espresso_machine\"\u001b[m  \u001b[m\u001b[33m[attr-defined]\u001b[m\n",
      "exercise4.py:60: \u001b[1m\u001b[31merror:\u001b[m \u001b[m\u001b[1m\"ICoffeeShop\"\u001b[m has no attribute \u001b[m\u001b[1m\"brew_by_hand_held_espresso_maker\"\u001b[m  \u001b[m\u001b[33m[attr-defined]\u001b[m\n",
      "exercise4.py:61: \u001b[1m\u001b[31merror:\u001b[m \u001b[m\u001b[1m\"ICoffeeShop\"\u001b[m has no attribute \u001b[m\u001b[1m\"brew_manual_pour_over\"\u001b[m; maybe \u001b[m\u001b[1m\"brew_machine_pour_over\"\u001b[m?  \u001b[m\u001b[33m[attr-defined]\u001b[m\n",
      "exercise4.py:68: \u001b[1m\u001b[31merror:\u001b[m Cannot instantiate abstract class \u001b[m\u001b[1m\"ThirdWave\"\u001b[m with abstract attribute \u001b[m\u001b[1m\"brew_machine_pour_over\"\u001b[m  \u001b[m\u001b[33m[abstract]\u001b[m\n",
      "\u001b[1m\u001b[31mFound 4 errors in 1 file (checked 1 source file)\u001b[m\n",
      "For a Traditional Coffee Shop...\n",
      "brewing by expresso machine\n",
      "brewing maching pour over\n",
      "Traceback (most recent call last):\n",
      "  File \"exercise4.py\", line 65, in <module>\n",
      "    print_all(Traditional())\n",
      "  File \"exercise4.py\", line 60, in print_all\n",
      "    handle_exception(coffee_shop.brew_by_hand_held_espresso_maker)\n",
      "AttributeError: 'Traditional' object has no attribute 'brew_by_hand_held_espresso_maker'\n"
     ]
    }
   ],
   "source": [
    "!cd labwork4 && mypy exercise4.py\n",
    "!cd labwork4 && python exercise4.py"
   ]
  },
  {
   "cell_type": "markdown",
   "metadata": {},
   "source": [
    "## Exercise 5\n",
    "Let us finish SOLID by the DIP...\n",
    "Modify the following code to respect it!"
   ]
  },
  {
   "cell_type": "code",
   "execution_count": 10,
   "metadata": {},
   "outputs": [
    {
     "name": "stdout",
     "output_type": "stream",
     "text": [
      "Writing labwork4/exercise5.py\n"
     ]
    }
   ],
   "source": [
    "%%writefile labwork4/exercise5.py\n",
    "class CoffeeShop:\n",
    "    def __init__(self, name: str):\n",
    "        self.__name = name\n",
    "\n",
    "    def get_payment(self):\n",
    "        print(f\"{self.__name} gets the payment\")\n",
    "\n",
    "    def deliver_coffee(self):\n",
    "        print(f\"{self.__name} delivers the coffee\")\n",
    "\n",
    "\n",
    "class Customer:\n",
    "    def __init__(self, name: str):\n",
    "        self.__name = name\n",
    "\n",
    "    def make_payment(self):\n",
    "        print(f\"{self.__name} makes the payment\")\n",
    "\n",
    "    def receive_coffee(self):\n",
    "        print(f\"{self.__name} receives the coffee\")\n",
    "\n",
    "\n",
    "class Delivery:\n",
    "    def __init__(self, customer: Customer, coffee_shop: CoffeeShop):\n",
    "        self.__customer = customer\n",
    "        self.__coffee_shop = coffee_shop\n",
    "\n",
    "    def delivers(self):\n",
    "        self.__customer.make_payment()\n",
    "        self.__coffee_shop.get_payment()\n",
    "        self.__coffee_shop.deliver_coffee()\n",
    "        self.__customer.receive_coffee()\n",
    "\n",
    "\n",
    "if __name__ == '__main__':\n",
    "    Delivery(Customer('Uncle Bob'), CoffeeShop('La Viet')).delivers()\n"
   ]
  },
  {
   "cell_type": "code",
   "execution_count": 30,
   "metadata": {},
   "outputs": [
    {
     "name": "stdout",
     "output_type": "stream",
     "text": [
      "Overwriting labwork4/exercise5.py\n"
     ]
    }
   ],
   "source": [
    "%%writefile labwork4/exercise5.py\n",
    "from abc import ABC, abstractmethod\n",
    "class ICoffeeShop(ABC):\n",
    "    def __init__(self, name: str):\n",
    "        self.__name = name\n",
    "\n",
    "    @property\n",
    "    def name(self):\n",
    "        return self.__name\n",
    "\n",
    "    @abstractmethod\n",
    "    def get_payment(self):\n",
    "        pass\n",
    "\n",
    "    @abstractmethod\n",
    "    def deliver_coffee(self):\n",
    "        pass\n",
    "\n",
    "    \n",
    "class CoffeeShop(ICoffeeShop):\n",
    "    def get_payment(self):\n",
    "        print(f\"{self._ICoffeeShop__name} gets the payment\")\n",
    "\n",
    "    def deliver_coffee(self):\n",
    "        print(f\"{self._ICoffeeShop__name} delivers the coffee\")\n",
    "\n",
    "class ICustomer(ABC):\n",
    "    def __init__(self, name: str):\n",
    "        self.__name = name\n",
    "        \n",
    "    @property\n",
    "    def name(self):\n",
    "        return self.__name\n",
    "        \n",
    "    @abstractmethod\n",
    "    def make_payment(self):\n",
    "        pass\n",
    "\n",
    "    @abstractmethod\n",
    "    def receive_coffee(self):\n",
    "        pass\n",
    "\n",
    "\n",
    "class Customer(ICustomer):\n",
    "\n",
    "    def make_payment(self):\n",
    "        print(f\"{self._ICustomer__name} makes the payment\")\n",
    "\n",
    "    def receive_coffee(self):\n",
    "        print(f\"{self._ICustomer__name} receives the coffee\")\n",
    "\n",
    "class IDelivery(ABC):\n",
    "    def __init__(self, customer: ICustomer, coffee_shop: ICoffeeShop):\n",
    "        self.__customer = customer\n",
    "        self.__coffee_shop = coffee_shop\n",
    "\n",
    "    @abstractmethod\n",
    "    def delivers(self):\n",
    "        pass\n",
    "\n",
    "\n",
    "class Delivery(IDelivery):\n",
    "\n",
    "    def delivers(self):\n",
    "        self._IDelivery__customer.make_payment()\n",
    "        self._IDelivery__coffee_shop.get_payment()\n",
    "        self._IDelivery__coffee_shop.deliver_coffee()\n",
    "        self._IDelivery__customer.receive_coffee()\n",
    "\n",
    "\n",
    "if __name__ == '__main__':\n",
    "    Delivery(Customer('Uncle Bob'), CoffeeShop('La Viet')).delivers()\n"
   ]
  },
  {
   "cell_type": "code",
   "execution_count": 31,
   "metadata": {},
   "outputs": [
    {
     "name": "stdout",
     "output_type": "stream",
     "text": [
      "\u001b[1m\u001b[32mSuccess: no issues found in 1 source file\u001b[m\n",
      "Uncle Bob makes the payment\n",
      "La Viet gets the payment\n",
      "La Viet delivers the coffee\n",
      "Uncle Bob receives the coffee\n"
     ]
    }
   ],
   "source": [
    "!cd labwork4 && mypy exercise5.py\n",
    "!cd labwork4 && python exercise5.py"
   ]
  },
  {
   "cell_type": "markdown",
   "metadata": {},
   "source": [
    "## Project: refactoring test\n",
    "You came for a job interview, and it is requested to you to look at the following code, and to refactor it.\n",
    "It concerns the `UserService` class and more specifically its `AddUser` method.\n",
    "We assume the code is sound in terms of business logic...\n",
    "So you only have to focus on applying clean code principles.  \n",
    "\n",
    "### Limitation:\n",
    "- The `Program` class shall **not change at all**. \n",
    " This includes `import` statements, any character modification is forbidden.\n",
    "You should assume this is part of a greater system and any **non-backwards compatible change will break the system**.\n",
    "Any change in that class will result in you instantly failing the exercise...\n",
    "-  You can change anything in the `LegacyApp` project except for the `UserDataAccess` class and its `AddUser` method that **should stay static and with the same parameters**. But, you may (should ?) change the code of the `AddUser` method (not its prototype, but is coding).\n",
    "- The module `DB` cannot change, it is given for compatibility with the real database module. You should assume it is automatically generated for instance. So, **do not modify anything into `DB` module**. \n",
    "\n",
    "## Expectations\n",
    "So, many things cannot be change... What can you do? \n",
    "- You should modify anything into the `LegacyApp` module (excepting things that may change the `Program.py` file).\n",
    "- You should add tests into `LegacyApp` to verify you are breaking the things. \n",
    "- Tests should be robust (working today, and in ten years, and in one thousand years...).\n",
    "- The refactoring should be done according to Lecture 1 to 4... actually, mainly to the last one!\n",
    "\n",
    "### Strategy\n",
    "To work more efficiently, you may follow these steps:\n",
    "- Add the missing unit testing! For that you should transform the code mainly apply DIP.\n",
    "- Refactor the program (where you are granted to) using SOLID principles.\n",
    "- Add DRY (if needed) and KISS... "
   ]
  },
  {
   "cell_type": "markdown",
   "metadata": {},
   "source": [
    "### Where is the code?\n",
    "The code is directly given as an archive. \n",
    "Extract it and zip it again to send your work &#x1F609; "
   ]
  }
 ],
 "metadata": {
  "kernelspec": {
   "display_name": "Python 3.8.13 ('allenv')",
   "language": "python",
   "name": "python3"
  },
  "language_info": {
   "codemirror_mode": {
    "name": "ipython",
    "version": 3
   },
   "file_extension": ".py",
   "mimetype": "text/x-python",
   "name": "python",
   "nbconvert_exporter": "python",
   "pygments_lexer": "ipython3",
   "version": "3.8.13"
  },
  "orig_nbformat": 4,
  "vscode": {
   "interpreter": {
    "hash": "9fb21341b2262334c6746f00bb237b214a3c5c5b906cfe81d5af4498149236dd"
   }
  }
 },
 "nbformat": 4,
 "nbformat_minor": 2
}
