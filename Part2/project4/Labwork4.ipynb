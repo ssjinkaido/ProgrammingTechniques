{
 "cells": [
  {
   "cell_type": "markdown",
   "metadata": {},
   "source": [
    "# Labwork 4\n",
    "This labwork should be done after reading the lecture 4. \n",
    "\n",
    "In the different exercises, you have to write or rewrite some code applying the different principles: SOLID, DRY, KISS..."
   ]
  },
  {
   "cell_type": "markdown",
   "metadata": {},
   "source": [
    "## Exercise 1\n",
    "The following code does not respect SOLID principles. \n",
    "Modify it such that SRP is respected!"
   ]
  },
  {
   "cell_type": "code",
   "execution_count": 1,
   "metadata": {},
   "outputs": [
    {
     "name": "stdout",
     "output_type": "stream",
     "text": [
      "Overwriting labwork4/exercise1.py\n"
     ]
    }
   ],
   "source": [
    "%%writefile labwork4/exercise1.py\n",
    "from __future__ import annotations\n",
    "class Address:\n",
    "    def __init__(self, city: str, zip_code:int):\n",
    "        self.__city = city\n",
    "        self.__zip_code = zip_code\n",
    "\n",
    "    @property\n",
    "    def city(self) -> str:\n",
    "        return self.__city\n",
    "\n",
    "    @city.setter\n",
    "    def city(self, value:str) -> None:\n",
    "        self.__city = value\n",
    "    \n",
    "    @property\n",
    "    def zip_code(self) -> int:\n",
    "        return self.__zip_code\n",
    "\n",
    "    @zip_code.setter\n",
    "    def zip_code(self, value:int) -> None:\n",
    "        self.__zip_code = value\n",
    "\n",
    "    def change_address(self, city:str, zip_code: int) -> None:\n",
    "        self.__city = city\n",
    "        self.__zip_code = zip_code\n",
    "        \n",
    "class CoffeeShop:\n",
    "    def __init__(self, name: str, address: Address):\n",
    "        self.__name = name\n",
    "        self.__address = address\n",
    "\n",
    "    @property\n",
    "    def name(self) -> str:\n",
    "        return self.__name\n",
    "\n",
    "    @name.setter\n",
    "    def name(self, value: str) -> None:\n",
    "        self.__name = value\n",
    "    \n",
    "    @property\n",
    "    def address(self) -> Address:\n",
    "        return self.__address\n",
    "\n",
    "    @address.setter(self, address: Address)-> None:\n",
    "        self.__address = address\n",
    "    \n",
    "if __name__ == '__main__':\n",
    "    cs = CoffeeShop('La Viet', Address('Ha Noi', 111000))\n",
    "    print(f'CoffeeShop name is \"{cs.name}\"')\n",
    "    print(f'CoffeeShop is in \"{cs.address.city}\"')\n",
    "    print(f'CoffeeShop zip code is {cs.address.zip_code}')\n",
    "    cs.address = Address('Neuville de Poitou', 86170)\n",
    "    cs.address.change_address('Neuville de Poitou', 86170)\n",
    "    print(f'CoffeeShop name is \"{cs.name}\"')\n",
    "    print(f'CoffeeShop is in \"{cs.address.city}\"')\n",
    "    print(f'CoffeeShop zip code is {cs.address.zip_code}')"
   ]
  },
  {
   "cell_type": "code",
   "execution_count": 2,
   "metadata": {},
   "outputs": [
    {
     "name": "stdout",
     "output_type": "stream",
     "text": [
      "exercise1.py:44: \u001b[1m\u001b[31merror:\u001b[m invalid syntax  \u001b[m\u001b[33m[syntax]\u001b[m\n",
      "\u001b[1m\u001b[31mFound 1 error in 1 file (errors prevented further checking)\u001b[m\n",
      "  File \"exercise1.py\", line 44\n",
      "    @address.setter(self, address: Address)-> None:\n",
      "                                 ^\n",
      "SyntaxError: invalid syntax\n"
     ]
    }
   ],
   "source": [
    "!cd labwork4 && mypy exercise1.py\n",
    "!cd labwork4 && python exercise1.py"
   ]
  },
  {
   "cell_type": "markdown",
   "metadata": {},
   "source": [
    "## Exercise 2\n",
    "This exercise focusses onto the `O` of SOLID: Open/close principle.\n",
    "The following code does not respect this principle...\n",
    "Modify it such that it follows it!"
   ]
  },
  {
   "cell_type": "code",
   "execution_count": 3,
   "metadata": {},
   "outputs": [
    {
     "name": "stdout",
     "output_type": "stream",
     "text": [
      "Overwriting labwork4/exercise2.py\n"
     ]
    }
   ],
   "source": [
    "%%writefile labwork4/exercise2.py\n",
    "from abc import ABC, abstractmethod\n",
    "class Company(ABC):\n",
    "    def __init__(self, name: str) -> None:\n",
    "        self.__name = name\n",
    "\n",
    "    @abstractmethod\n",
    "    def get_invoice(self) -> str:\n",
    "        pass\n",
    "    \n",
    "class CompanyA(Company):\n",
    "    \n",
    "    def get_invoice(self) -> str:\n",
    "        invoice = \"some format of invoice for A company\"\n",
    "        return invoice\n",
    "\n",
    "\n",
    "class CompanyB(Company):\n",
    "    def get_invoice(self) -> str:\n",
    "        invoice = \"some format of invoice for B company\"\n",
    "        return invoice\n",
    "\n",
    "\n",
    "class CompanyC(Company):\n",
    "    def get_invoice(self) -> str:\n",
    "        invoice = \"some format of invoice for C company\"\n",
    "        return invoice\n",
    "\n",
    "\n",
    "class CompanyD(Company):\n",
    "    def get_invoice(self) -> str:\n",
    "        invoice = \"error\"\n",
    "        return invoice\n",
    "\n",
    "class InvoiceService:\n",
    "    @staticmethod\n",
    "    def generate_invoice(company: Company) -> str:\n",
    "        return company.get_invoice()\n",
    "\n",
    "if __name__ == \"__main__\":\n",
    "    print(InvoiceService.generate_invoice(CompanyA('A')))\n",
    "    print(InvoiceService.generate_invoice(CompanyB('B')))\n",
    "    print(InvoiceService.generate_invoice(CompanyC('C')))\n",
    "    print(InvoiceService.generate_invoice(CompanyD('D')))"
   ]
  },
  {
   "cell_type": "code",
   "execution_count": 4,
   "metadata": {},
   "outputs": [
    {
     "name": "stdout",
     "output_type": "stream",
     "text": [
      "\u001b[1m\u001b[32mSuccess: no issues found in 1 source file\u001b[m\n",
      "some format of invoice for A company\n",
      "some format of invoice for B company\n",
      "some format of invoice for C company\n",
      "error\n"
     ]
    }
   ],
   "source": [
    "!cd labwork4 && mypy exercise2.py\n",
    "!cd labwork4 && python exercise2.py"
   ]
  },
  {
   "cell_type": "markdown",
   "metadata": {},
   "source": [
    "## Exercise 3\n",
    "Let us continues with the SOLID principles.\n",
    "This exercise focusses onto the Liskov substitution principle.\n",
    "\n",
    "Modify the following code to follow LSP."
   ]
  },
  {
   "cell_type": "code",
   "execution_count": 5,
   "metadata": {},
   "outputs": [
    {
     "name": "stdout",
     "output_type": "stream",
     "text": [
      "Overwriting labwork4/exercise3.py\n"
     ]
    }
   ],
   "source": [
    "%%writefile labwork4/exercise3.py\n",
    "from abc import abstractmethod, ABC\n",
    "class CoffeeShop:\n",
    "    def __init__(self, name: str):\n",
    "        self.__name = name\n",
    "\n",
    "    @property\n",
    "    def name(self):\n",
    "        return self.__name\n",
    "\n",
    "    \n",
    "\n",
    "class DeliveryService(ABC):\n",
    "    @abstractmethod\n",
    "    def takeaway(self) -> str:\n",
    "        pass\n",
    "\n",
    "    \n",
    "class A(CoffeeShop, DeliveryService):\n",
    "    def takeaway(self) -> str:\n",
    "        return \"Delivery at most 30 minutes\"\n",
    "\n",
    "class B(CoffeeShop):\n",
    "    pass\n",
    "\n",
    "\n",
    "if __name__ == \"__main__\":\n",
    "    # def display_dev(coffee_with_delivery: Union[CoffeeShop, DeliveryService])->None:\n",
    "    #     print(f\"{coffee_with_delivery.name}: {coffee_with_delivery.takeaway()}\")\n",
    "    \n",
    "    # def display_without_dev(coffee_shop:CoffeeShop) -> None:\n",
    "    #     print(f\"{coffee_shop.name}, no delivery\")\n",
    "\n",
    "    # def display(cs: CoffeeShop|Union[CoffeeShop, DeliveryService])->None:\n",
    "    #     if isinstance(cs, DeliveryService):\n",
    "    #         display_dev(cs)\n",
    "    #     else:\n",
    "    #         display_without_dev(cs)\n",
    "    a = A('A')\n",
    "    b = B('B')\n",
    "    print(f'CoffeeShop {a.name}: {a.takeaway()}')\n",
    "    print(f'CoffeeShop {b.name}, not service')\n",
    "#neu 1 class co 1 method, ma class con k dung duoc, thi phai vut method day di va chuyen xuong class con(bat cu class con nao xai duoc)\n",
    "#con khong thi vi pham liskov"
   ]
  },
  {
   "cell_type": "code",
   "execution_count": 6,
   "metadata": {},
   "outputs": [
    {
     "name": "stdout",
     "output_type": "stream",
     "text": [
      "\u001b[1m\u001b[32mSuccess: no issues found in 1 source file\u001b[m\n",
      "CoffeeShop A: Delivery at most 30 minutes\n",
      "CoffeeShop B, not service\n"
     ]
    }
   ],
   "source": [
    "!cd labwork4 && mypy exercise3.py\n",
    "!cd labwork4 && python exercise3.py"
   ]
  },
  {
   "cell_type": "markdown",
   "metadata": {},
   "source": [
    "## Exercise 4\n",
    "The `I` of SOLID now, for Interface Segregation Principle...\n",
    "Modify the following code to follow ISP."
   ]
  },
  {
   "cell_type": "code",
   "execution_count": 7,
   "metadata": {},
   "outputs": [],
   "source": [
    "# %%writefile labwork4/exercise4.py\n",
    "# from abc import ABC, abstractmethod\n",
    "\n",
    "\n",
    "# class ICoffeeShop(ABC):\n",
    "#     # traditional shops\n",
    "#     @abstractmethod\n",
    "#     def brew_by_espresso_machine(self):\n",
    "#         pass\n",
    "\n",
    "#     @abstractmethod\n",
    "#     def brew_machine_pour_over(self):\n",
    "#         pass\n",
    "\n",
    "#     # third wave shops\n",
    "#     @abstractmethod\n",
    "#     def brew_by_hand_held_espresso_maker(self):\n",
    "#         pass\n",
    "\n",
    "#     @abstractmethod\n",
    "#     def brew_manual_pour_over(self):\n",
    "#         pass\n",
    "\n",
    "#     # both\n",
    "#     @abstractmethod\n",
    "#     def brew_filter_coffee(self):\n",
    "#         pass\n",
    "\n",
    "\n",
    "# class Traditional(ICoffeeShop):\n",
    "#     def brew_by_espresso_machine(self):\n",
    "#         print(\"brewing by expresso machine\")\n",
    "\n",
    "#     def brew_machine_pour_over(self):\n",
    "#         print(\"brewing maching pour over\")\n",
    "\n",
    "#     def brew_filter_coffee(self):\n",
    "#         print(\"brewing filter coffee\")\n",
    "\n",
    "#     def brew_by_hand_held_espresso_maker(self):\n",
    "#         raise NotImplementedError(\"We don't brew by hand held espresso maker\")\n",
    "\n",
    "#     def brew_manual_pour_over(self):\n",
    "#         raise NotImplementedError(\"We don't brewManualPourOver\")\n",
    "\n",
    "\n",
    "# class ThirdWave(ICoffeeShop):\n",
    "#     def brew_by_hand_held_espresso_maker(self):\n",
    "#         print(\"brewing by hand held expresso maker\")\n",
    "\n",
    "#     def brew_manual_pour_over(self):\n",
    "#         print(\"brewing manual pour over\")\n",
    "\n",
    "#     def brew_filter_coffee(self):\n",
    "#         print(\"brewing filter coffee\")\n",
    "\n",
    "#     def brew_by_espresso_machine(self):\n",
    "#         raise NotImplementedError(\"We don't brew by expresso machine\")\n",
    "\n",
    "#     def brew_machine_pour_over(self):\n",
    "#         raise NotImplementedError(\"We don't brew manual pour over\")\n",
    "\n",
    "\n",
    "# if __name__ == \"__main__\":\n",
    "#     def print_all(coffee_shop: ICoffeeShop):\n",
    "#         \"\"\"Try all the methods...\"\"\"\n",
    "#         def handle_exception(func):\n",
    "#             \"\"\"Print the exception if one is raised\"\"\"\n",
    "#             try:\n",
    "#                 func()\n",
    "#             except NotImplementedError as exception:\n",
    "#                 print(f'-> {exception}')\n",
    "\n",
    "#         handle_exception(coffee_shop.brew_by_espresso_machine)\n",
    "#         handle_exception(coffee_shop.brew_machine_pour_over)\n",
    "#         handle_exception(coffee_shop.brew_by_hand_held_espresso_maker)\n",
    "#         handle_exception(coffee_shop.brew_manual_pour_over)\n",
    "#         coffee_shop.brew_filter_coffee()\n",
    "\n",
    "#     print('For a Traditional Coffee Shop...')\n",
    "#     print_all(Traditional())\n",
    "#     print('')\n",
    "#     print('For a ThirdWave Coffee Shop...')\n",
    "#     print_all(ThirdWave())\n"
   ]
  },
  {
   "cell_type": "code",
   "execution_count": 8,
   "metadata": {},
   "outputs": [
    {
     "name": "stdout",
     "output_type": "stream",
     "text": [
      "Overwriting labwork4/exercise4.py\n"
     ]
    }
   ],
   "source": [
    "%%writefile labwork4/exercise4.py\n",
    "from abc import ABC, abstractmethod\n",
    "\n",
    "\n",
    "class ICoffeeShop(ABC):\n",
    "    # third wave shops\n",
    "    @abstractmethod\n",
    "    def brew_filter_coffee(self):\n",
    "        pass\n",
    "\n",
    "class ITraditional(ICoffeeShop):\n",
    "    # traditional shops\n",
    "    @abstractmethod\n",
    "    def brew_by_espresso_machine(self):\n",
    "        pass\n",
    "\n",
    "    @abstractmethod\n",
    "    def brew_machine_pour_over(self):\n",
    "        pass\n",
    "\n",
    "class IThirdWave(ICoffeeShop):\n",
    "    # third wave shops\n",
    "    @abstractmethod\n",
    "    def brew_by_hand_held_espresso_maker(self):\n",
    "        print(\"brewing by hand held expresso maker\")\n",
    "\n",
    "    @abstractmethod\n",
    "    def brew_manual_pour_over(self):\n",
    "        pass\n",
    "\n",
    "class Traditional(ITraditional):\n",
    "    def brew_by_espresso_machine(self):\n",
    "        print(\"brewing by expresso machine\")\n",
    "\n",
    "    def brew_machine_pour_over(self):\n",
    "        print(\"brewing maching pour over\")\n",
    "\n",
    "    def brew_filter_coffee(self):\n",
    "        print(\"brewing filter coffee\")\n",
    "\n",
    "class ThirdWave(IThirdWave):\n",
    "    def brew_by_hand_held_espresso_maker(self):\n",
    "        print(\"brewing by hand held expresso maker\")\n",
    "\n",
    "    def brew_manual_pour_over(self):\n",
    "        print(\"brewing manual pour over\")\n",
    "\n",
    "    def brew_filter_coffee(self):\n",
    "        print(\"brewing filter coffee\")\n",
    "\n",
    "\n",
    "if __name__ == \"__main__\":\n",
    "    def print_all(coffee_shop: ICoffeeShop):\n",
    "        \"\"\"Try all the methods...\"\"\"\n",
    "\n",
    "        def print_traditional(coffee_shop: ITraditional):\n",
    "            coffee_shop.brew_by_espresso_machine()\n",
    "            coffee_shop.brew_machine_pour_over()\n",
    "            coffee_shop.brew_filter_coffee()\n",
    "        \n",
    "        def print_third_wave(coffee_shop: IThirdWave):\n",
    "            coffee_shop.brew_by_hand_held_espresso_maker()\n",
    "            coffee_shop.brew_manual_pour_over()\n",
    "            coffee_shop.brew_filter_coffee()\n",
    "        \n",
    "        if isinstance(coffee_shop, ITraditional):\n",
    "            print_traditional(coffee_shop)\n",
    "        if isinstance(coffee_shop, IThirdWave):\n",
    "            print_third_wave(coffee_shop)\n",
    "\n",
    "    print('For a Traditional Coffee Shop...')\n",
    "    print_all(Traditional())\n",
    "    print('')\n",
    "    print('For a ThirdWave Coffee Shop...')\n",
    "    print_all(ThirdWave())\n"
   ]
  },
  {
   "cell_type": "code",
   "execution_count": 9,
   "metadata": {},
   "outputs": [
    {
     "name": "stdout",
     "output_type": "stream",
     "text": [
      "\u001b[1m\u001b[32mSuccess: no issues found in 1 source file\u001b[m\n",
      "For a Traditional Coffee Shop...\n",
      "brewing by expresso machine\n",
      "brewing maching pour over\n",
      "brewing filter coffee\n",
      "\n",
      "For a ThirdWave Coffee Shop...\n",
      "brewing by hand held expresso maker\n",
      "brewing manual pour over\n",
      "brewing filter coffee\n"
     ]
    }
   ],
   "source": [
    "!cd labwork4 && mypy exercise4.py\n",
    "!cd labwork4 && python exercise4.py"
   ]
  },
  {
   "cell_type": "markdown",
   "metadata": {},
   "source": [
    "## Exercise 5\n",
    "Let us finish SOLID by the DIP...\n",
    "Modify the following code to respect it!"
   ]
  },
  {
   "cell_type": "code",
   "execution_count": 10,
   "metadata": {},
   "outputs": [
    {
     "name": "stdout",
     "output_type": "stream",
     "text": [
      "Overwriting labwork4/exercise5.py\n"
     ]
    }
   ],
   "source": [
    "%%writefile labwork4/exercise5.py\n",
    "class CoffeeShop:\n",
    "    def __init__(self, name: str):\n",
    "        self.__name = name\n",
    "\n",
    "    def get_payment(self):\n",
    "        print(f\"{self.__name} gets the payment\")\n",
    "\n",
    "    def deliver_coffee(self):\n",
    "        print(f\"{self.__name} delivers the coffee\")\n",
    "\n",
    "\n",
    "class Customer:\n",
    "    def __init__(self, name: str):\n",
    "        self.__name = name\n",
    "\n",
    "    def make_payment(self):\n",
    "        print(f\"{self.__name} makes the payment\")\n",
    "\n",
    "    def receive_coffee(self):\n",
    "        print(f\"{self.__name} receives the coffee\")\n",
    "\n",
    "\n",
    "class Delivery:\n",
    "    def __init__(self, customer: Customer, coffee_shop: CoffeeShop):\n",
    "        self.__customer = customer\n",
    "        self.__coffee_shop = coffee_shop\n",
    "\n",
    "    def delivers(self):\n",
    "        self.__customer.make_payment()\n",
    "        self.__coffee_shop.get_payment()\n",
    "        self.__coffee_shop.deliver_coffee()\n",
    "        self.__customer.receive_coffee()\n",
    "\n",
    "\n",
    "if __name__ == '__main__':\n",
    "    Delivery(Customer('Uncle Bob'), CoffeeShop('La Viet')).delivers()\n"
   ]
  },
  {
   "cell_type": "code",
   "execution_count": 11,
   "metadata": {},
   "outputs": [
    {
     "name": "stdout",
     "output_type": "stream",
     "text": [
      "Overwriting labwork4/exercise5.py\n"
     ]
    }
   ],
   "source": [
    "%%writefile labwork4/exercise5.py\n",
    "from __future__ import annotations\n",
    "from abc import ABC, abstractmethod\n",
    "class ICoffeeShop(ABC):\n",
    "    @property\n",
    "    @abstractmethod\n",
    "    def name(self: ICoffeeShop) -> str:\n",
    "        ...\n",
    "\n",
    "    @abstractmethod\n",
    "    def get_payment(self: ICoffeeShop)->None:\n",
    "        ...\n",
    "\n",
    "    @abstractmethod\n",
    "    def deliver_coffee(self: ICoffeeShop)->None:\n",
    "        ...\n",
    "\n",
    "    \n",
    "class CoffeeShop(ICoffeeShop):\n",
    "    def __init__(self: CoffeeShop, name: str):\n",
    "        self.__name = name\n",
    "\n",
    "    @property\n",
    "    def name(self) -> str:\n",
    "        return self.__name\n",
    "\n",
    "    def get_payment(self: CoffeeShop):\n",
    "        print(f\"{self.__name} gets the payment\")\n",
    "\n",
    "    def deliver_coffee(self: CoffeeShop):\n",
    "        print(f\"{self.__name} delivers the coffee\")\n",
    "\n",
    "class ICustomer(ABC):  \n",
    "    @property\n",
    "    @abstractmethod\n",
    "    def name(self: ICustomer) -> str:\n",
    "        ...\n",
    "\n",
    "\n",
    "    @abstractmethod\n",
    "    def make_payment(self: ICustomer)->None:\n",
    "        ...\n",
    "\n",
    "    @abstractmethod\n",
    "    def receive_coffee(self: ICustomer)->None:\n",
    "        ...\n",
    "\n",
    "\n",
    "class Customer(ICustomer):\n",
    "    def __init__(self, name: str):\n",
    "        self.__name = name\n",
    "        \n",
    "    @property\n",
    "    def name(self) -> str:\n",
    "        return self.__name\n",
    "\n",
    "    def make_payment(self):\n",
    "        print(f\"{self.__name} makes the payment\")\n",
    "\n",
    "    def receive_coffee(self):\n",
    "        print(f\"{self.__name} receives the coffee\")\n",
    "\n",
    "class IDelivery(ABC):\n",
    "    @abstractmethod\n",
    "    def delivers(self: IDelivery, coffee_shop: ICoffeeShop, customer: ICustomer)->None:\n",
    "        ...\n",
    "\n",
    "\n",
    "class Delivery(IDelivery):\n",
    "\n",
    "    def delivers(self: Delivery, coffee_shop: ICoffeeShop, customer: ICustomer):\n",
    "        customer.make_payment()\n",
    "        coffee_shop.get_payment()\n",
    "        coffee_shop.deliver_coffee()\n",
    "        customer.receive_coffee()\n",
    "\n",
    "\n",
    "if __name__ == '__main__':\n",
    "    Delivery().delivers(CoffeeShop('La Viet'), Customer('Uncle Bob'))\n"
   ]
  },
  {
   "cell_type": "code",
   "execution_count": 12,
   "metadata": {},
   "outputs": [
    {
     "name": "stdout",
     "output_type": "stream",
     "text": [
      "\u001b[1m\u001b[32mSuccess: no issues found in 1 source file\u001b[m\n",
      "Uncle Bob makes the payment\n",
      "La Viet gets the payment\n",
      "La Viet delivers the coffee\n",
      "Uncle Bob receives the coffee\n"
     ]
    }
   ],
   "source": [
    "!cd labwork4 && mypy exercise5.py\n",
    "!cd labwork4 && python exercise5.py"
   ]
  },
  {
   "cell_type": "markdown",
   "metadata": {},
   "source": [
    "## Project: refactoring test\n",
    "You came for a job interview, and it is requested to you to look at the following code, and to refactor it.\n",
    "It concerns the `UserService` class and more specifically its `AddUser` method.\n",
    "We assume the code is sound in terms of business logic...\n",
    "So you only have to focus on applying clean code principles.  \n",
    "\n",
    "### Limitation:\n",
    "- The `Program` class shall **not change at all**. \n",
    " This includes `import` statements, any character modification is forbidden.\n",
    "You should assume this is part of a greater system and any **non-backwards compatible change will break the system**.\n",
    "Any change in that class will result in you instantly failing the exercise...\n",
    "-  You can change anything in the `LegacyApp` project except for the `UserDataAccess` class and its `AddUser` method that **should stay static and with the same parameters**. But, you may (should ?) change the code of the `AddUser` method (not its prototype, but is coding).\n",
    "- The module `DB` cannot change, it is given for compatibility with the real database module. You should assume it is automatically generated for instance. So, **do not modify anything into `DB` module**. \n",
    "\n",
    "## Expectations\n",
    "So, many things cannot be change... What can you do? \n",
    "- You should modify anything into the `LegacyApp` module (excepting things that may change the `Program.py` file).\n",
    "- You should add tests into `LegacyApp` to verify you are breaking the things. \n",
    "- Tests should be robust (working today, and in ten years, and in one thousand years...).\n",
    "- The refactoring should be done according to Lecture 1 to 4... actually, mainly to the last one!\n",
    "\n",
    "### Strategy\n",
    "To work more efficiently, you may follow these steps:\n",
    "- Add the missing unit testing! For that you should transform the code mainly apply DIP.\n",
    "- Refactor the program (where you are granted to) using SOLID principles.\n",
    "- Add DRY (if needed) and KISS... "
   ]
  },
  {
   "cell_type": "markdown",
   "metadata": {},
   "source": [
    "### Where is the code?\n",
    "The code is directly given as an archive. \n",
    "Extract it and zip it again to send your work &#x1F609; "
   ]
  }
 ],
 "metadata": {
  "kernelspec": {
   "display_name": "Python 3.8.13 ('allenv')",
   "language": "python",
   "name": "python3"
  },
  "language_info": {
   "codemirror_mode": {
    "name": "ipython",
    "version": 3
   },
   "file_extension": ".py",
   "mimetype": "text/x-python",
   "name": "python",
   "nbconvert_exporter": "python",
   "pygments_lexer": "ipython3",
   "version": "3.8.13 (default, Mar 28 2022, 11:38:47) \n[GCC 7.5.0]"
  },
  "orig_nbformat": 4,
  "vscode": {
   "interpreter": {
    "hash": "9fb21341b2262334c6746f00bb237b214a3c5c5b906cfe81d5af4498149236dd"
   }
  }
 },
 "nbformat": 4,
 "nbformat_minor": 2
}
